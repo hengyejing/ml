{
 "cells": [
  {
   "cell_type": "code",
   "execution_count": 1,
   "metadata": {},
   "outputs": [
    {
     "data": {
      "text/html": [
       "<style>.container { width:100% !important; }</style"
      ],
      "text/plain": [
       "<IPython.core.display.HTML object>"
      ]
     },
     "metadata": {},
     "output_type": "display_data"
    }
   ],
   "source": [
    "import pandas as pd\n",
    "import numpy as np\n",
    "import matplotlib.pyplot as plt\n",
    "%matplotlib inline\n",
    "\n",
    "from IPython.core.display import display, HTML\n",
    "display(HTML(\"<style>.container { width:100% !important; }</style\"))"
   ]
  },
  {
   "cell_type": "markdown",
   "metadata": {},
   "source": [
    "## Examining the Index object"
   ]
  },
  {
   "cell_type": "code",
   "execution_count": 2,
   "metadata": {},
   "outputs": [
    {
     "data": {
      "text/plain": [
       "Index(['INSTNM', 'CITY', 'STABBR', 'HBCU', 'MENONLY', 'WOMENONLY', 'RELAFFIL',\n",
       "       'SATVRMID', 'SATMTMID', 'DISTANCEONLY', 'UGDS', 'UGDS_WHITE',\n",
       "       'UGDS_BLACK', 'UGDS_HISP', 'UGDS_ASIAN', 'UGDS_AIAN', 'UGDS_NHPI',\n",
       "       'UGDS_2MOR', 'UGDS_NRA', 'UGDS_UNKN', 'PPTUG_EF', 'CURROPER', 'PCTPELL',\n",
       "       'PCTFLOAN', 'UG25ABV', 'MD_EARN_WNE_P10', 'GRAD_DEBT_MDN_SUPP'],\n",
       "      dtype='object')"
      ]
     },
     "execution_count": 2,
     "metadata": {},
     "output_type": "execute_result"
    }
   ],
   "source": [
    "college = pd.read_csv('data/college.csv')\n",
    "columns = college.columns\n",
    "columns"
   ]
  },
  {
   "cell_type": "code",
   "execution_count": 3,
   "metadata": {},
   "outputs": [
    {
     "data": {
      "text/plain": [
       "array(['INSTNM', 'CITY', 'STABBR', 'HBCU', 'MENONLY', 'WOMENONLY',\n",
       "       'RELAFFIL', 'SATVRMID', 'SATMTMID', 'DISTANCEONLY', 'UGDS',\n",
       "       'UGDS_WHITE', 'UGDS_BLACK', 'UGDS_HISP', 'UGDS_ASIAN', 'UGDS_AIAN',\n",
       "       'UGDS_NHPI', 'UGDS_2MOR', 'UGDS_NRA', 'UGDS_UNKN', 'PPTUG_EF',\n",
       "       'CURROPER', 'PCTPELL', 'PCTFLOAN', 'UG25ABV', 'MD_EARN_WNE_P10',\n",
       "       'GRAD_DEBT_MDN_SUPP'], dtype=object)"
      ]
     },
     "execution_count": 3,
     "metadata": {},
     "output_type": "execute_result"
    }
   ],
   "source": [
    "columns.values"
   ]
  },
  {
   "cell_type": "code",
   "execution_count": 4,
   "metadata": {},
   "outputs": [
    {
     "data": {
      "text/plain": [
       "'WOMENONLY'"
      ]
     },
     "execution_count": 4,
     "metadata": {},
     "output_type": "execute_result"
    }
   ],
   "source": [
    "columns[5]"
   ]
  },
  {
   "cell_type": "code",
   "execution_count": 5,
   "metadata": {},
   "outputs": [
    {
     "data": {
      "text/plain": [
       "Index(['CITY', 'WOMENONLY', 'UGDS'], dtype='object')"
      ]
     },
     "execution_count": 5,
     "metadata": {},
     "output_type": "execute_result"
    }
   ],
   "source": [
    "columns[[1, 5, 10]]"
   ]
  },
  {
   "cell_type": "code",
   "execution_count": 6,
   "metadata": {},
   "outputs": [
    {
     "data": {
      "text/plain": [
       "Index(['PPTUG_EF', 'CURROPER', 'PCTPELL'], dtype='object')"
      ]
     },
     "execution_count": 6,
     "metadata": {},
     "output_type": "execute_result"
    }
   ],
   "source": [
    "columns[-7:-4]"
   ]
  },
  {
   "cell_type": "code",
   "execution_count": 7,
   "metadata": {},
   "outputs": [
    {
     "data": {
      "text/plain": [
       "('CITY', 'WOMENONLY', 0)"
      ]
     },
     "execution_count": 7,
     "metadata": {},
     "output_type": "execute_result"
    }
   ],
   "source": [
    "columns.min(), columns.max(), columns.isnull().sum()"
   ]
  },
  {
   "cell_type": "code",
   "execution_count": 8,
   "metadata": {},
   "outputs": [
    {
     "data": {
      "text/plain": [
       "Index(['INSTNM_A', 'CITY_A', 'STABBR_A', 'HBCU_A', 'MENONLY_A', 'WOMENONLY_A',\n",
       "       'RELAFFIL_A', 'SATVRMID_A', 'SATMTMID_A', 'DISTANCEONLY_A', 'UGDS_A',\n",
       "       'UGDS_WHITE_A', 'UGDS_BLACK_A', 'UGDS_HISP_A', 'UGDS_ASIAN_A',\n",
       "       'UGDS_AIAN_A', 'UGDS_NHPI_A', 'UGDS_2MOR_A', 'UGDS_NRA_A',\n",
       "       'UGDS_UNKN_A', 'PPTUG_EF_A', 'CURROPER_A', 'PCTPELL_A', 'PCTFLOAN_A',\n",
       "       'UG25ABV_A', 'MD_EARN_WNE_P10_A', 'GRAD_DEBT_MDN_SUPP_A'],\n",
       "      dtype='object')"
      ]
     },
     "execution_count": 8,
     "metadata": {},
     "output_type": "execute_result"
    }
   ],
   "source": [
    "columns + '_A'"
   ]
  },
  {
   "cell_type": "code",
   "execution_count": 9,
   "metadata": {},
   "outputs": [
    {
     "data": {
      "text/plain": [
       "array([ True, False,  True,  True,  True,  True,  True,  True,  True,\n",
       "       False,  True,  True,  True,  True,  True,  True,  True,  True,\n",
       "        True,  True,  True, False,  True,  True,  True,  True,  True])"
      ]
     },
     "execution_count": 9,
     "metadata": {},
     "output_type": "execute_result"
    }
   ],
   "source": [
    "columns > 'G'"
   ]
  },
  {
   "cell_type": "code",
   "execution_count": 10,
   "metadata": {},
   "outputs": [],
   "source": [
    "# columns[1] = 'city'\n",
    "# TypeError: Index does not support mutable operations"
   ]
  },
  {
   "cell_type": "code",
   "execution_count": 11,
   "metadata": {},
   "outputs": [
    {
     "data": {
      "text/plain": [
       "Index(['INSTNM', 'CITY', 'STABBR', 'HBCU'], dtype='object')"
      ]
     },
     "execution_count": 11,
     "metadata": {},
     "output_type": "execute_result"
    }
   ],
   "source": [
    "c1 = columns[:4]\n",
    "c1"
   ]
  },
  {
   "cell_type": "code",
   "execution_count": 12,
   "metadata": {},
   "outputs": [
    {
     "data": {
      "text/plain": [
       "Index(['STABBR', 'HBCU', 'MENONLY', 'WOMENONLY'], dtype='object')"
      ]
     },
     "execution_count": 12,
     "metadata": {},
     "output_type": "execute_result"
    }
   ],
   "source": [
    "c2 = columns[2:6]\n",
    "c2"
   ]
  },
  {
   "cell_type": "code",
   "execution_count": 13,
   "metadata": {},
   "outputs": [
    {
     "data": {
      "text/plain": [
       "Index(['CITY', 'HBCU', 'INSTNM', 'MENONLY', 'STABBR', 'WOMENONLY'], dtype='object')"
      ]
     },
     "execution_count": 13,
     "metadata": {},
     "output_type": "execute_result"
    }
   ],
   "source": [
    "c1.union(c2) # or 'c1 | c2'"
   ]
  },
  {
   "cell_type": "code",
   "execution_count": 14,
   "metadata": {},
   "outputs": [
    {
     "data": {
      "text/plain": [
       "Index(['CITY', 'INSTNM', 'MENONLY', 'WOMENONLY'], dtype='object')"
      ]
     },
     "execution_count": 14,
     "metadata": {},
     "output_type": "execute_result"
    }
   ],
   "source": [
    "c1.symmetric_difference(c2) # or 'c1 ^ c2'"
   ]
  },
  {
   "cell_type": "code",
   "execution_count": 15,
   "metadata": {},
   "outputs": [],
   "source": [
    "## Producing Cartesian products "
   ]
  },
  {
   "cell_type": "markdown",
   "metadata": {},
   "source": [
    "## Producing Cartesian products"
   ]
  },
  {
   "cell_type": "code",
   "execution_count": 16,
   "metadata": {},
   "outputs": [
    {
     "data": {
      "text/plain": [
       "a    0\n",
       "a    1\n",
       "a    2\n",
       "b    3\n",
       "dtype: int64"
      ]
     },
     "execution_count": 16,
     "metadata": {},
     "output_type": "execute_result"
    }
   ],
   "source": [
    "s1 = pd.Series(index=list('aaab'), data=np.arange(4))\n",
    "s1"
   ]
  },
  {
   "cell_type": "code",
   "execution_count": 17,
   "metadata": {},
   "outputs": [
    {
     "data": {
      "text/plain": [
       "c    0\n",
       "a    1\n",
       "b    2\n",
       "a    3\n",
       "b    4\n",
       "b    5\n",
       "dtype: int64"
      ]
     },
     "execution_count": 17,
     "metadata": {},
     "output_type": "execute_result"
    }
   ],
   "source": [
    "s2 = pd.Series(index=list('cababb'), data=np.arange(6))\n",
    "s2"
   ]
  },
  {
   "cell_type": "code",
   "execution_count": 18,
   "metadata": {},
   "outputs": [
    {
     "data": {
      "text/plain": [
       "a    1.0\n",
       "a    3.0\n",
       "a    2.0\n",
       "a    4.0\n",
       "a    3.0\n",
       "a    5.0\n",
       "b    5.0\n",
       "b    7.0\n",
       "b    8.0\n",
       "c    NaN\n",
       "dtype: float64"
      ]
     },
     "execution_count": 18,
     "metadata": {},
     "output_type": "execute_result"
    }
   ],
   "source": [
    "s1 + s2"
   ]
  },
  {
   "cell_type": "code",
   "execution_count": 19,
   "metadata": {},
   "outputs": [
    {
     "data": {
      "text/plain": [
       "a    0\n",
       "a    2\n",
       "a    4\n",
       "b    6\n",
       "b    8\n",
       "dtype: int64"
      ]
     },
     "execution_count": 19,
     "metadata": {},
     "output_type": "execute_result"
    }
   ],
   "source": [
    "s1 = pd.Series(index=list('aaabb'), data=np.arange(5))\n",
    "s2 = pd.Series(index=list('aaabb'), data=np.arange(5))\n",
    "s1 + s2"
   ]
  },
  {
   "cell_type": "markdown",
   "metadata": {},
   "source": [
    "## Exploding indexes"
   ]
  },
  {
   "cell_type": "code",
   "execution_count": 20,
   "metadata": {},
   "outputs": [
    {
     "data": {
      "text/html": [
       "<div>\n",
       "<style scoped>\n",
       "    .dataframe tbody tr th:only-of-type {\n",
       "        vertical-align: middle;\n",
       "    }\n",
       "\n",
       "    .dataframe tbody tr th {\n",
       "        vertical-align: top;\n",
       "    }\n",
       "\n",
       "    .dataframe thead th {\n",
       "        text-align: right;\n",
       "    }\n",
       "</style>\n",
       "<table border=\"1\" class=\"dataframe\">\n",
       "  <thead>\n",
       "    <tr style=\"text-align: right;\">\n",
       "      <th></th>\n",
       "      <th>UNIQUE_ID</th>\n",
       "      <th>POSITION_TITLE</th>\n",
       "      <th>DEPARTMENT</th>\n",
       "      <th>BASE_SALARY</th>\n",
       "      <th>EMPLOYMENT_TYPE</th>\n",
       "      <th>GENDER</th>\n",
       "      <th>EMPLOYMENT_STATUS</th>\n",
       "      <th>HIRE_DATE</th>\n",
       "      <th>JOB_DATE</th>\n",
       "    </tr>\n",
       "    <tr>\n",
       "      <th>RACE</th>\n",
       "      <th></th>\n",
       "      <th></th>\n",
       "      <th></th>\n",
       "      <th></th>\n",
       "      <th></th>\n",
       "      <th></th>\n",
       "      <th></th>\n",
       "      <th></th>\n",
       "      <th></th>\n",
       "    </tr>\n",
       "  </thead>\n",
       "  <tbody>\n",
       "    <tr>\n",
       "      <th>Hispanic/Latino</th>\n",
       "      <td>0</td>\n",
       "      <td>ASSISTANT DIRECTOR (EX LVL)</td>\n",
       "      <td>Municipal Courts Department</td>\n",
       "      <td>121862.0</td>\n",
       "      <td>Full Time</td>\n",
       "      <td>Female</td>\n",
       "      <td>Active</td>\n",
       "      <td>2006-06-12</td>\n",
       "      <td>2012-10-13</td>\n",
       "    </tr>\n",
       "    <tr>\n",
       "      <th>Hispanic/Latino</th>\n",
       "      <td>1</td>\n",
       "      <td>LIBRARY ASSISTANT</td>\n",
       "      <td>Library</td>\n",
       "      <td>26125.0</td>\n",
       "      <td>Full Time</td>\n",
       "      <td>Female</td>\n",
       "      <td>Active</td>\n",
       "      <td>2000-07-19</td>\n",
       "      <td>2010-09-18</td>\n",
       "    </tr>\n",
       "    <tr>\n",
       "      <th>White</th>\n",
       "      <td>2</td>\n",
       "      <td>POLICE OFFICER</td>\n",
       "      <td>Houston Police Department-HPD</td>\n",
       "      <td>45279.0</td>\n",
       "      <td>Full Time</td>\n",
       "      <td>Male</td>\n",
       "      <td>Active</td>\n",
       "      <td>2015-02-03</td>\n",
       "      <td>2015-02-03</td>\n",
       "    </tr>\n",
       "    <tr>\n",
       "      <th>White</th>\n",
       "      <td>3</td>\n",
       "      <td>ENGINEER/OPERATOR</td>\n",
       "      <td>Houston Fire Department (HFD)</td>\n",
       "      <td>63166.0</td>\n",
       "      <td>Full Time</td>\n",
       "      <td>Male</td>\n",
       "      <td>Active</td>\n",
       "      <td>1982-02-08</td>\n",
       "      <td>1991-05-25</td>\n",
       "    </tr>\n",
       "    <tr>\n",
       "      <th>White</th>\n",
       "      <td>4</td>\n",
       "      <td>ELECTRICIAN</td>\n",
       "      <td>General Services Department</td>\n",
       "      <td>56347.0</td>\n",
       "      <td>Full Time</td>\n",
       "      <td>Male</td>\n",
       "      <td>Active</td>\n",
       "      <td>1989-06-19</td>\n",
       "      <td>1994-10-22</td>\n",
       "    </tr>\n",
       "  </tbody>\n",
       "</table>\n",
       "</div>"
      ],
      "text/plain": [
       "                 UNIQUE_ID               POSITION_TITLE  \\\n",
       "RACE                                                      \n",
       "Hispanic/Latino          0  ASSISTANT DIRECTOR (EX LVL)   \n",
       "Hispanic/Latino          1            LIBRARY ASSISTANT   \n",
       "White                    2               POLICE OFFICER   \n",
       "White                    3            ENGINEER/OPERATOR   \n",
       "White                    4                  ELECTRICIAN   \n",
       "\n",
       "                                    DEPARTMENT  BASE_SALARY EMPLOYMENT_TYPE  \\\n",
       "RACE                                                                          \n",
       "Hispanic/Latino    Municipal Courts Department     121862.0       Full Time   \n",
       "Hispanic/Latino                        Library      26125.0       Full Time   \n",
       "White            Houston Police Department-HPD      45279.0       Full Time   \n",
       "White            Houston Fire Department (HFD)      63166.0       Full Time   \n",
       "White              General Services Department      56347.0       Full Time   \n",
       "\n",
       "                 GENDER EMPLOYMENT_STATUS   HIRE_DATE    JOB_DATE  \n",
       "RACE                                                               \n",
       "Hispanic/Latino  Female            Active  2006-06-12  2012-10-13  \n",
       "Hispanic/Latino  Female            Active  2000-07-19  2010-09-18  \n",
       "White              Male            Active  2015-02-03  2015-02-03  \n",
       "White              Male            Active  1982-02-08  1991-05-25  \n",
       "White              Male            Active  1989-06-19  1994-10-22  "
      ]
     },
     "execution_count": 20,
     "metadata": {},
     "output_type": "execute_result"
    }
   ],
   "source": [
    "employee = pd.read_csv('data/employee.csv', index_col='RACE')\n",
    "employee.head()"
   ]
  },
  {
   "cell_type": "code",
   "execution_count": 21,
   "metadata": {},
   "outputs": [
    {
     "data": {
      "text/plain": [
       "True"
      ]
     },
     "execution_count": 21,
     "metadata": {},
     "output_type": "execute_result"
    }
   ],
   "source": [
    "salary1 = employee['BASE_SALARY']\n",
    "salary2 = employee['BASE_SALARY']\n",
    "salary1 is salary2"
   ]
  },
  {
   "cell_type": "code",
   "execution_count": 22,
   "metadata": {},
   "outputs": [
    {
     "data": {
      "text/plain": [
       "False"
      ]
     },
     "execution_count": 22,
     "metadata": {},
     "output_type": "execute_result"
    }
   ],
   "source": [
    "salary1 = employee['BASE_SALARY'].copy()\n",
    "salary2 = employee['BASE_SALARY'].copy()\n",
    "salary1 is salary2"
   ]
  },
  {
   "cell_type": "code",
   "execution_count": 23,
   "metadata": {},
   "outputs": [
    {
     "data": {
      "text/plain": [
       "RACE\n",
       "American Indian or Alaskan Native    78355.0\n",
       "American Indian or Alaskan Native    26125.0\n",
       "American Indian or Alaskan Native    98536.0\n",
       "American Indian or Alaskan Native        NaN\n",
       "American Indian or Alaskan Native    55461.0\n",
       "Name: BASE_SALARY, dtype: float64"
      ]
     },
     "execution_count": 23,
     "metadata": {},
     "output_type": "execute_result"
    }
   ],
   "source": [
    "salary1 = salary1.sort_index()\n",
    "salary1.head()"
   ]
  },
  {
   "cell_type": "code",
   "execution_count": 24,
   "metadata": {},
   "outputs": [
    {
     "data": {
      "text/plain": [
       "RACE\n",
       "Hispanic/Latino    121862.0\n",
       "Hispanic/Latino     26125.0\n",
       "White               45279.0\n",
       "White               63166.0\n",
       "White               56347.0\n",
       "Name: BASE_SALARY, dtype: float64"
      ]
     },
     "execution_count": 24,
     "metadata": {},
     "output_type": "execute_result"
    }
   ],
   "source": [
    "salary2.head()"
   ]
  },
  {
   "cell_type": "code",
   "execution_count": 25,
   "metadata": {},
   "outputs": [
    {
     "data": {
      "text/plain": [
       "RACE\n",
       "American Indian or Alaskan Native    138702.0\n",
       "American Indian or Alaskan Native    156710.0\n",
       "American Indian or Alaskan Native    176891.0\n",
       "American Indian or Alaskan Native    159594.0\n",
       "American Indian or Alaskan Native    127734.0\n",
       "Name: BASE_SALARY, dtype: float64"
      ]
     },
     "execution_count": 25,
     "metadata": {},
     "output_type": "execute_result"
    }
   ],
   "source": [
    "salary_add = salary1 + salary2\n",
    "salary_add.head()"
   ]
  },
  {
   "cell_type": "code",
   "execution_count": 26,
   "metadata": {},
   "outputs": [
    {
     "data": {
      "text/plain": [
       "(2000, 2000, 1175424, 2000)"
      ]
     },
     "execution_count": 26,
     "metadata": {},
     "output_type": "execute_result"
    }
   ],
   "source": [
    "salary_add1 = salary1 + salary1\n",
    "len(salary1), len(salary2), len(salary_add), len(salary_add1)"
   ]
  },
  {
   "cell_type": "code",
   "execution_count": 27,
   "metadata": {},
   "outputs": [
    {
     "data": {
      "text/plain": [
       "Black or African American            700\n",
       "White                                665\n",
       "Hispanic/Latino                      480\n",
       "Asian/Pacific Islander               107\n",
       "NaN                                   35\n",
       "American Indian or Alaskan Native     11\n",
       "Others                                 2\n",
       "Name: RACE, dtype: int64"
      ]
     },
     "execution_count": 27,
     "metadata": {},
     "output_type": "execute_result"
    }
   ],
   "source": [
    "index_vc = salary1.index.value_counts(dropna=False)\n",
    "index_vc"
   ]
  },
  {
   "cell_type": "code",
   "execution_count": 28,
   "metadata": {},
   "outputs": [
    {
     "data": {
      "text/plain": [
       "1175424"
      ]
     },
     "execution_count": 28,
     "metadata": {},
     "output_type": "execute_result"
    }
   ],
   "source": [
    "index_vc.pow(2).sum()"
   ]
  },
  {
   "cell_type": "markdown",
   "metadata": {},
   "source": [
    "## Filling values with unequal indexes"
   ]
  },
  {
   "cell_type": "code",
   "execution_count": 29,
   "metadata": {},
   "outputs": [
    {
     "data": {
      "text/html": [
       "<div>\n",
       "<style scoped>\n",
       "    .dataframe tbody tr th:only-of-type {\n",
       "        vertical-align: middle;\n",
       "    }\n",
       "\n",
       "    .dataframe tbody tr th {\n",
       "        vertical-align: top;\n",
       "    }\n",
       "\n",
       "    .dataframe thead th {\n",
       "        text-align: right;\n",
       "    }\n",
       "</style>\n",
       "<table border=\"1\" class=\"dataframe\">\n",
       "  <thead>\n",
       "    <tr style=\"text-align: right;\">\n",
       "      <th></th>\n",
       "      <th>yearID</th>\n",
       "      <th>stint</th>\n",
       "      <th>teamID</th>\n",
       "      <th>lgID</th>\n",
       "      <th>G</th>\n",
       "      <th>AB</th>\n",
       "      <th>R</th>\n",
       "      <th>H</th>\n",
       "      <th>2B</th>\n",
       "      <th>3B</th>\n",
       "      <th>...</th>\n",
       "      <th>RBI</th>\n",
       "      <th>SB</th>\n",
       "      <th>CS</th>\n",
       "      <th>BB</th>\n",
       "      <th>SO</th>\n",
       "      <th>IBB</th>\n",
       "      <th>HBP</th>\n",
       "      <th>SH</th>\n",
       "      <th>SF</th>\n",
       "      <th>GIDP</th>\n",
       "    </tr>\n",
       "    <tr>\n",
       "      <th>playerID</th>\n",
       "      <th></th>\n",
       "      <th></th>\n",
       "      <th></th>\n",
       "      <th></th>\n",
       "      <th></th>\n",
       "      <th></th>\n",
       "      <th></th>\n",
       "      <th></th>\n",
       "      <th></th>\n",
       "      <th></th>\n",
       "      <th></th>\n",
       "      <th></th>\n",
       "      <th></th>\n",
       "      <th></th>\n",
       "      <th></th>\n",
       "      <th></th>\n",
       "      <th></th>\n",
       "      <th></th>\n",
       "      <th></th>\n",
       "      <th></th>\n",
       "      <th></th>\n",
       "    </tr>\n",
       "  </thead>\n",
       "  <tbody>\n",
       "    <tr>\n",
       "      <th>altuvjo01</th>\n",
       "      <td>2014</td>\n",
       "      <td>1</td>\n",
       "      <td>HOU</td>\n",
       "      <td>AL</td>\n",
       "      <td>158</td>\n",
       "      <td>660</td>\n",
       "      <td>85</td>\n",
       "      <td>225</td>\n",
       "      <td>47</td>\n",
       "      <td>3</td>\n",
       "      <td>...</td>\n",
       "      <td>59.0</td>\n",
       "      <td>56.0</td>\n",
       "      <td>9.0</td>\n",
       "      <td>36</td>\n",
       "      <td>53.0</td>\n",
       "      <td>7.0</td>\n",
       "      <td>5.0</td>\n",
       "      <td>1.0</td>\n",
       "      <td>5.0</td>\n",
       "      <td>20.0</td>\n",
       "    </tr>\n",
       "    <tr>\n",
       "      <th>cartech02</th>\n",
       "      <td>2014</td>\n",
       "      <td>1</td>\n",
       "      <td>HOU</td>\n",
       "      <td>AL</td>\n",
       "      <td>145</td>\n",
       "      <td>507</td>\n",
       "      <td>68</td>\n",
       "      <td>115</td>\n",
       "      <td>21</td>\n",
       "      <td>1</td>\n",
       "      <td>...</td>\n",
       "      <td>88.0</td>\n",
       "      <td>5.0</td>\n",
       "      <td>2.0</td>\n",
       "      <td>56</td>\n",
       "      <td>182.0</td>\n",
       "      <td>6.0</td>\n",
       "      <td>5.0</td>\n",
       "      <td>0.0</td>\n",
       "      <td>4.0</td>\n",
       "      <td>12.0</td>\n",
       "    </tr>\n",
       "    <tr>\n",
       "      <th>castrja01</th>\n",
       "      <td>2014</td>\n",
       "      <td>1</td>\n",
       "      <td>HOU</td>\n",
       "      <td>AL</td>\n",
       "      <td>126</td>\n",
       "      <td>465</td>\n",
       "      <td>43</td>\n",
       "      <td>103</td>\n",
       "      <td>21</td>\n",
       "      <td>2</td>\n",
       "      <td>...</td>\n",
       "      <td>56.0</td>\n",
       "      <td>1.0</td>\n",
       "      <td>0.0</td>\n",
       "      <td>34</td>\n",
       "      <td>151.0</td>\n",
       "      <td>1.0</td>\n",
       "      <td>9.0</td>\n",
       "      <td>1.0</td>\n",
       "      <td>3.0</td>\n",
       "      <td>11.0</td>\n",
       "    </tr>\n",
       "    <tr>\n",
       "      <th>corpoca01</th>\n",
       "      <td>2014</td>\n",
       "      <td>1</td>\n",
       "      <td>HOU</td>\n",
       "      <td>AL</td>\n",
       "      <td>55</td>\n",
       "      <td>170</td>\n",
       "      <td>22</td>\n",
       "      <td>40</td>\n",
       "      <td>6</td>\n",
       "      <td>0</td>\n",
       "      <td>...</td>\n",
       "      <td>19.0</td>\n",
       "      <td>0.0</td>\n",
       "      <td>0.0</td>\n",
       "      <td>14</td>\n",
       "      <td>37.0</td>\n",
       "      <td>0.0</td>\n",
       "      <td>3.0</td>\n",
       "      <td>1.0</td>\n",
       "      <td>2.0</td>\n",
       "      <td>3.0</td>\n",
       "    </tr>\n",
       "    <tr>\n",
       "      <th>dominma01</th>\n",
       "      <td>2014</td>\n",
       "      <td>1</td>\n",
       "      <td>HOU</td>\n",
       "      <td>AL</td>\n",
       "      <td>157</td>\n",
       "      <td>564</td>\n",
       "      <td>51</td>\n",
       "      <td>121</td>\n",
       "      <td>17</td>\n",
       "      <td>0</td>\n",
       "      <td>...</td>\n",
       "      <td>57.0</td>\n",
       "      <td>0.0</td>\n",
       "      <td>1.0</td>\n",
       "      <td>29</td>\n",
       "      <td>125.0</td>\n",
       "      <td>2.0</td>\n",
       "      <td>5.0</td>\n",
       "      <td>2.0</td>\n",
       "      <td>7.0</td>\n",
       "      <td>23.0</td>\n",
       "    </tr>\n",
       "  </tbody>\n",
       "</table>\n",
       "<p>5 rows × 21 columns</p>\n",
       "</div>"
      ],
      "text/plain": [
       "           yearID  stint teamID lgID    G   AB   R    H  2B  3B  ...    RBI  \\\n",
       "playerID                                                         ...          \n",
       "altuvjo01    2014      1    HOU   AL  158  660  85  225  47   3  ...   59.0   \n",
       "cartech02    2014      1    HOU   AL  145  507  68  115  21   1  ...   88.0   \n",
       "castrja01    2014      1    HOU   AL  126  465  43  103  21   2  ...   56.0   \n",
       "corpoca01    2014      1    HOU   AL   55  170  22   40   6   0  ...   19.0   \n",
       "dominma01    2014      1    HOU   AL  157  564  51  121  17   0  ...   57.0   \n",
       "\n",
       "             SB   CS  BB     SO  IBB  HBP   SH   SF  GIDP  \n",
       "playerID                                                   \n",
       "altuvjo01  56.0  9.0  36   53.0  7.0  5.0  1.0  5.0  20.0  \n",
       "cartech02   5.0  2.0  56  182.0  6.0  5.0  0.0  4.0  12.0  \n",
       "castrja01   1.0  0.0  34  151.0  1.0  9.0  1.0  3.0  11.0  \n",
       "corpoca01   0.0  0.0  14   37.0  0.0  3.0  1.0  2.0   3.0  \n",
       "dominma01   0.0  1.0  29  125.0  2.0  5.0  2.0  7.0  23.0  \n",
       "\n",
       "[5 rows x 21 columns]"
      ]
     },
     "execution_count": 29,
     "metadata": {},
     "output_type": "execute_result"
    }
   ],
   "source": [
    "baseball_14 = pd.read_csv('data/baseball14.csv', index_col='playerID')\n",
    "baseball_15 = pd.read_csv('data/baseball15.csv', index_col='playerID')\n",
    "baseball_16 = pd.read_csv('data/baseball16.csv', index_col='playerID')\n",
    "baseball_14.head()"
   ]
  },
  {
   "cell_type": "code",
   "execution_count": 30,
   "metadata": {},
   "outputs": [
    {
     "data": {
      "text/plain": [
       "Index(['corpoca01', 'dominma01', 'fowlede01', 'grossro01', 'guzmaje01',\n",
       "       'hoeslj01', 'krausma01', 'preslal01', 'singljo02'],\n",
       "      dtype='object', name='playerID')"
      ]
     },
     "execution_count": 30,
     "metadata": {},
     "output_type": "execute_result"
    }
   ],
   "source": [
    "baseball_14.index.difference(baseball_15.index)"
   ]
  },
  {
   "cell_type": "code",
   "execution_count": 31,
   "metadata": {},
   "outputs": [
    {
     "data": {
      "text/plain": [
       "Index(['cartech02', 'corpoca01', 'dominma01', 'fowlede01', 'grossro01',\n",
       "       'guzmaje01', 'hoeslj01', 'krausma01', 'preslal01', 'singljo02',\n",
       "       'villajo01'],\n",
       "      dtype='object', name='playerID')"
      ]
     },
     "execution_count": 31,
     "metadata": {},
     "output_type": "execute_result"
    }
   ],
   "source": [
    "baseball_14.index.difference(baseball_16.index)"
   ]
  },
  {
   "cell_type": "code",
   "execution_count": 33,
   "metadata": {},
   "outputs": [
    {
     "data": {
      "text/plain": [
       "playerID\n",
       "altuvjo01    225\n",
       "cartech02    115\n",
       "castrja01    103\n",
       "corpoca01     40\n",
       "dominma01    121\n",
       "Name: H, dtype: int64"
      ]
     },
     "execution_count": 33,
     "metadata": {},
     "output_type": "execute_result"
    }
   ],
   "source": [
    "hits_14 = baseball_14['H']\n",
    "hits_15 = baseball_15['H']\n",
    "hits_16 = baseball_16['H']\n",
    "hits_14.head()"
   ]
  },
  {
   "cell_type": "code",
   "execution_count": 34,
   "metadata": {},
   "outputs": [
    {
     "data": {
      "text/plain": [
       "playerID\n",
       "altuvjo01    425.0\n",
       "cartech02    193.0\n",
       "castrja01    174.0\n",
       "congeha01      NaN\n",
       "corpoca01      NaN\n",
       "Name: H, dtype: float64"
      ]
     },
     "execution_count": 34,
     "metadata": {},
     "output_type": "execute_result"
    }
   ],
   "source": [
    "(hits_14 + hits_15).head()"
   ]
  },
  {
   "cell_type": "code",
   "execution_count": 35,
   "metadata": {},
   "outputs": [
    {
     "data": {
      "text/plain": [
       "playerID\n",
       "altuvjo01    425.0\n",
       "cartech02    193.0\n",
       "castrja01    174.0\n",
       "congeha01     46.0\n",
       "corpoca01     40.0\n",
       "Name: H, dtype: float64"
      ]
     },
     "execution_count": 35,
     "metadata": {},
     "output_type": "execute_result"
    }
   ],
   "source": [
    "hits_14.add(hits_15, fill_value=0).head()"
   ]
  },
  {
   "cell_type": "code",
   "execution_count": 36,
   "metadata": {},
   "outputs": [
    {
     "data": {
      "text/plain": [
       "playerID\n",
       "altuvjo01    641.0\n",
       "bregmal01     53.0\n",
       "cartech02    193.0\n",
       "castrja01    243.0\n",
       "congeha01     46.0\n",
       "Name: H, dtype: float64"
      ]
     },
     "execution_count": 36,
     "metadata": {},
     "output_type": "execute_result"
    }
   ],
   "source": [
    "hits_total = hits_14.add(hits_15, fill_value=0) \\\n",
    "                    .add(hits_16, fill_value=0)\n",
    "hits_total.head()"
   ]
  },
  {
   "cell_type": "code",
   "execution_count": 37,
   "metadata": {},
   "outputs": [
    {
     "data": {
      "text/plain": [
       "False"
      ]
     },
     "execution_count": 37,
     "metadata": {},
     "output_type": "execute_result"
    }
   ],
   "source": [
    "hits_total.hasnans"
   ]
  },
  {
   "cell_type": "code",
   "execution_count": 38,
   "metadata": {},
   "outputs": [
    {
     "data": {
      "text/plain": [
       "a    NaN\n",
       "b    3.0\n",
       "c    NaN\n",
       "d    1.0\n",
       "dtype: float64"
      ]
     },
     "execution_count": 38,
     "metadata": {},
     "output_type": "execute_result"
    }
   ],
   "source": [
    "s = pd.Series(index=['a', 'b', 'c', 'd'],\n",
    "               data=[np.nan, 3, np.nan, 1])\n",
    "\n",
    "s"
   ]
  },
  {
   "cell_type": "code",
   "execution_count": 39,
   "metadata": {},
   "outputs": [
    {
     "data": {
      "text/plain": [
       "a     NaN\n",
       "b     6.0\n",
       "c    10.0\n",
       "dtype: float64"
      ]
     },
     "execution_count": 39,
     "metadata": {},
     "output_type": "execute_result"
    }
   ],
   "source": [
    "s1 = pd.Series(index=['a', 'b', 'c'], \n",
    "               data=[np.nan, 6, 10])\n",
    "s1"
   ]
  },
  {
   "cell_type": "code",
   "execution_count": 40,
   "metadata": {},
   "outputs": [
    {
     "data": {
      "text/plain": [
       "a     NaN\n",
       "b     9.0\n",
       "c    15.0\n",
       "d     6.0\n",
       "dtype: float64"
      ]
     },
     "execution_count": 40,
     "metadata": {},
     "output_type": "execute_result"
    }
   ],
   "source": [
    "s.add(s1, fill_value=5)"
   ]
  },
  {
   "cell_type": "code",
   "execution_count": 41,
   "metadata": {},
   "outputs": [
    {
     "data": {
      "text/html": [
       "<div>\n",
       "<style scoped>\n",
       "    .dataframe tbody tr th:only-of-type {\n",
       "        vertical-align: middle;\n",
       "    }\n",
       "\n",
       "    .dataframe tbody tr th {\n",
       "        vertical-align: top;\n",
       "    }\n",
       "\n",
       "    .dataframe thead th {\n",
       "        text-align: right;\n",
       "    }\n",
       "</style>\n",
       "<table border=\"1\" class=\"dataframe\">\n",
       "  <thead>\n",
       "    <tr style=\"text-align: right;\">\n",
       "      <th></th>\n",
       "      <th>G</th>\n",
       "      <th>AB</th>\n",
       "      <th>R</th>\n",
       "      <th>H</th>\n",
       "    </tr>\n",
       "    <tr>\n",
       "      <th>playerID</th>\n",
       "      <th></th>\n",
       "      <th></th>\n",
       "      <th></th>\n",
       "      <th></th>\n",
       "    </tr>\n",
       "  </thead>\n",
       "  <tbody>\n",
       "    <tr>\n",
       "      <th>altuvjo01</th>\n",
       "      <td>158</td>\n",
       "      <td>660</td>\n",
       "      <td>85</td>\n",
       "      <td>225</td>\n",
       "    </tr>\n",
       "    <tr>\n",
       "      <th>cartech02</th>\n",
       "      <td>145</td>\n",
       "      <td>507</td>\n",
       "      <td>68</td>\n",
       "      <td>115</td>\n",
       "    </tr>\n",
       "    <tr>\n",
       "      <th>castrja01</th>\n",
       "      <td>126</td>\n",
       "      <td>465</td>\n",
       "      <td>43</td>\n",
       "      <td>103</td>\n",
       "    </tr>\n",
       "    <tr>\n",
       "      <th>corpoca01</th>\n",
       "      <td>55</td>\n",
       "      <td>170</td>\n",
       "      <td>22</td>\n",
       "      <td>40</td>\n",
       "    </tr>\n",
       "    <tr>\n",
       "      <th>dominma01</th>\n",
       "      <td>157</td>\n",
       "      <td>564</td>\n",
       "      <td>51</td>\n",
       "      <td>121</td>\n",
       "    </tr>\n",
       "  </tbody>\n",
       "</table>\n",
       "</div>"
      ],
      "text/plain": [
       "             G   AB   R    H\n",
       "playerID                    \n",
       "altuvjo01  158  660  85  225\n",
       "cartech02  145  507  68  115\n",
       "castrja01  126  465  43  103\n",
       "corpoca01   55  170  22   40\n",
       "dominma01  157  564  51  121"
      ]
     },
     "execution_count": 41,
     "metadata": {},
     "output_type": "execute_result"
    }
   ],
   "source": [
    "df_14 = baseball_14[['G', 'AB', 'R', 'H']]\n",
    "df_14.head()"
   ]
  },
  {
   "cell_type": "code",
   "execution_count": 43,
   "metadata": {},
   "outputs": [
    {
     "data": {
      "text/html": [
       "<div>\n",
       "<style scoped>\n",
       "    .dataframe tbody tr th:only-of-type {\n",
       "        vertical-align: middle;\n",
       "    }\n",
       "\n",
       "    .dataframe tbody tr th {\n",
       "        vertical-align: top;\n",
       "    }\n",
       "\n",
       "    .dataframe thead th {\n",
       "        text-align: right;\n",
       "    }\n",
       "</style>\n",
       "<table border=\"1\" class=\"dataframe\">\n",
       "  <thead>\n",
       "    <tr style=\"text-align: right;\">\n",
       "      <th></th>\n",
       "      <th>AB</th>\n",
       "      <th>R</th>\n",
       "      <th>H</th>\n",
       "      <th>HR</th>\n",
       "    </tr>\n",
       "    <tr>\n",
       "      <th>playerID</th>\n",
       "      <th></th>\n",
       "      <th></th>\n",
       "      <th></th>\n",
       "      <th></th>\n",
       "    </tr>\n",
       "  </thead>\n",
       "  <tbody>\n",
       "    <tr>\n",
       "      <th>altuvjo01</th>\n",
       "      <td>638</td>\n",
       "      <td>86</td>\n",
       "      <td>200</td>\n",
       "      <td>15</td>\n",
       "    </tr>\n",
       "    <tr>\n",
       "      <th>cartech02</th>\n",
       "      <td>391</td>\n",
       "      <td>50</td>\n",
       "      <td>78</td>\n",
       "      <td>24</td>\n",
       "    </tr>\n",
       "    <tr>\n",
       "      <th>castrja01</th>\n",
       "      <td>337</td>\n",
       "      <td>38</td>\n",
       "      <td>71</td>\n",
       "      <td>11</td>\n",
       "    </tr>\n",
       "    <tr>\n",
       "      <th>congeha01</th>\n",
       "      <td>201</td>\n",
       "      <td>25</td>\n",
       "      <td>46</td>\n",
       "      <td>11</td>\n",
       "    </tr>\n",
       "    <tr>\n",
       "      <th>correca01</th>\n",
       "      <td>387</td>\n",
       "      <td>52</td>\n",
       "      <td>108</td>\n",
       "      <td>22</td>\n",
       "    </tr>\n",
       "  </tbody>\n",
       "</table>\n",
       "</div>"
      ],
      "text/plain": [
       "            AB   R    H  HR\n",
       "playerID                   \n",
       "altuvjo01  638  86  200  15\n",
       "cartech02  391  50   78  24\n",
       "castrja01  337  38   71  11\n",
       "congeha01  201  25   46  11\n",
       "correca01  387  52  108  22"
      ]
     },
     "execution_count": 43,
     "metadata": {},
     "output_type": "execute_result"
    }
   ],
   "source": [
    "df_15 = baseball_15[['AB', 'R', 'H', 'HR']]\n",
    "df_15.head()"
   ]
  },
  {
   "cell_type": "code",
   "execution_count": 44,
   "metadata": {},
   "outputs": [
    {
     "data": {
      "text/html": [
       "<style  type=\"text/css\" >\n",
       "    #T_aa3a4ff0_1445_11e9_9380_784f435dacf5row0_col1 {\n",
       "            background-color:  yellow;\n",
       "        }    #T_aa3a4ff0_1445_11e9_9380_784f435dacf5row0_col3 {\n",
       "            background-color:  yellow;\n",
       "        }    #T_aa3a4ff0_1445_11e9_9380_784f435dacf5row1_col1 {\n",
       "            background-color:  yellow;\n",
       "        }    #T_aa3a4ff0_1445_11e9_9380_784f435dacf5row1_col3 {\n",
       "            background-color:  yellow;\n",
       "        }    #T_aa3a4ff0_1445_11e9_9380_784f435dacf5row2_col1 {\n",
       "            background-color:  yellow;\n",
       "        }    #T_aa3a4ff0_1445_11e9_9380_784f435dacf5row2_col3 {\n",
       "            background-color:  yellow;\n",
       "        }    #T_aa3a4ff0_1445_11e9_9380_784f435dacf5row3_col0 {\n",
       "            background-color:  yellow;\n",
       "        }    #T_aa3a4ff0_1445_11e9_9380_784f435dacf5row3_col1 {\n",
       "            background-color:  yellow;\n",
       "        }    #T_aa3a4ff0_1445_11e9_9380_784f435dacf5row3_col2 {\n",
       "            background-color:  yellow;\n",
       "        }    #T_aa3a4ff0_1445_11e9_9380_784f435dacf5row3_col3 {\n",
       "            background-color:  yellow;\n",
       "        }    #T_aa3a4ff0_1445_11e9_9380_784f435dacf5row3_col4 {\n",
       "            background-color:  yellow;\n",
       "        }    #T_aa3a4ff0_1445_11e9_9380_784f435dacf5row4_col0 {\n",
       "            background-color:  yellow;\n",
       "        }    #T_aa3a4ff0_1445_11e9_9380_784f435dacf5row4_col1 {\n",
       "            background-color:  yellow;\n",
       "        }    #T_aa3a4ff0_1445_11e9_9380_784f435dacf5row4_col2 {\n",
       "            background-color:  yellow;\n",
       "        }    #T_aa3a4ff0_1445_11e9_9380_784f435dacf5row4_col3 {\n",
       "            background-color:  yellow;\n",
       "        }    #T_aa3a4ff0_1445_11e9_9380_784f435dacf5row4_col4 {\n",
       "            background-color:  yellow;\n",
       "        }    #T_aa3a4ff0_1445_11e9_9380_784f435dacf5row5_col0 {\n",
       "            background-color:  yellow;\n",
       "        }    #T_aa3a4ff0_1445_11e9_9380_784f435dacf5row5_col1 {\n",
       "            background-color:  yellow;\n",
       "        }    #T_aa3a4ff0_1445_11e9_9380_784f435dacf5row5_col2 {\n",
       "            background-color:  yellow;\n",
       "        }    #T_aa3a4ff0_1445_11e9_9380_784f435dacf5row5_col3 {\n",
       "            background-color:  yellow;\n",
       "        }    #T_aa3a4ff0_1445_11e9_9380_784f435dacf5row5_col4 {\n",
       "            background-color:  yellow;\n",
       "        }    #T_aa3a4ff0_1445_11e9_9380_784f435dacf5row6_col0 {\n",
       "            background-color:  yellow;\n",
       "        }    #T_aa3a4ff0_1445_11e9_9380_784f435dacf5row6_col1 {\n",
       "            background-color:  yellow;\n",
       "        }    #T_aa3a4ff0_1445_11e9_9380_784f435dacf5row6_col2 {\n",
       "            background-color:  yellow;\n",
       "        }    #T_aa3a4ff0_1445_11e9_9380_784f435dacf5row6_col3 {\n",
       "            background-color:  yellow;\n",
       "        }    #T_aa3a4ff0_1445_11e9_9380_784f435dacf5row6_col4 {\n",
       "            background-color:  yellow;\n",
       "        }    #T_aa3a4ff0_1445_11e9_9380_784f435dacf5row7_col0 {\n",
       "            background-color:  yellow;\n",
       "        }    #T_aa3a4ff0_1445_11e9_9380_784f435dacf5row7_col1 {\n",
       "            background-color:  yellow;\n",
       "        }    #T_aa3a4ff0_1445_11e9_9380_784f435dacf5row7_col2 {\n",
       "            background-color:  yellow;\n",
       "        }    #T_aa3a4ff0_1445_11e9_9380_784f435dacf5row7_col3 {\n",
       "            background-color:  yellow;\n",
       "        }    #T_aa3a4ff0_1445_11e9_9380_784f435dacf5row7_col4 {\n",
       "            background-color:  yellow;\n",
       "        }    #T_aa3a4ff0_1445_11e9_9380_784f435dacf5row8_col0 {\n",
       "            background-color:  yellow;\n",
       "        }    #T_aa3a4ff0_1445_11e9_9380_784f435dacf5row8_col1 {\n",
       "            background-color:  yellow;\n",
       "        }    #T_aa3a4ff0_1445_11e9_9380_784f435dacf5row8_col2 {\n",
       "            background-color:  yellow;\n",
       "        }    #T_aa3a4ff0_1445_11e9_9380_784f435dacf5row8_col3 {\n",
       "            background-color:  yellow;\n",
       "        }    #T_aa3a4ff0_1445_11e9_9380_784f435dacf5row8_col4 {\n",
       "            background-color:  yellow;\n",
       "        }    #T_aa3a4ff0_1445_11e9_9380_784f435dacf5row9_col0 {\n",
       "            background-color:  yellow;\n",
       "        }    #T_aa3a4ff0_1445_11e9_9380_784f435dacf5row9_col1 {\n",
       "            background-color:  yellow;\n",
       "        }    #T_aa3a4ff0_1445_11e9_9380_784f435dacf5row9_col2 {\n",
       "            background-color:  yellow;\n",
       "        }    #T_aa3a4ff0_1445_11e9_9380_784f435dacf5row9_col3 {\n",
       "            background-color:  yellow;\n",
       "        }    #T_aa3a4ff0_1445_11e9_9380_784f435dacf5row9_col4 {\n",
       "            background-color:  yellow;\n",
       "        }</style>  \n",
       "<table id=\"T_aa3a4ff0_1445_11e9_9380_784f435dacf5\" > \n",
       "<thead>    <tr> \n",
       "        <th class=\"blank level0\" ></th> \n",
       "        <th class=\"col_heading level0 col0\" >AB</th> \n",
       "        <th class=\"col_heading level0 col1\" >G</th> \n",
       "        <th class=\"col_heading level0 col2\" >H</th> \n",
       "        <th class=\"col_heading level0 col3\" >HR</th> \n",
       "        <th class=\"col_heading level0 col4\" >R</th> \n",
       "    </tr>    <tr> \n",
       "        <th class=\"index_name level0\" >playerID</th> \n",
       "        <th class=\"blank\" ></th> \n",
       "        <th class=\"blank\" ></th> \n",
       "        <th class=\"blank\" ></th> \n",
       "        <th class=\"blank\" ></th> \n",
       "        <th class=\"blank\" ></th> \n",
       "    </tr></thead> \n",
       "<tbody>    <tr> \n",
       "        <th id=\"T_aa3a4ff0_1445_11e9_9380_784f435dacf5level0_row0\" class=\"row_heading level0 row0\" >altuvjo01</th> \n",
       "        <td id=\"T_aa3a4ff0_1445_11e9_9380_784f435dacf5row0_col0\" class=\"data row0 col0\" >1298</td> \n",
       "        <td id=\"T_aa3a4ff0_1445_11e9_9380_784f435dacf5row0_col1\" class=\"data row0 col1\" >nan</td> \n",
       "        <td id=\"T_aa3a4ff0_1445_11e9_9380_784f435dacf5row0_col2\" class=\"data row0 col2\" >425</td> \n",
       "        <td id=\"T_aa3a4ff0_1445_11e9_9380_784f435dacf5row0_col3\" class=\"data row0 col3\" >nan</td> \n",
       "        <td id=\"T_aa3a4ff0_1445_11e9_9380_784f435dacf5row0_col4\" class=\"data row0 col4\" >171</td> \n",
       "    </tr>    <tr> \n",
       "        <th id=\"T_aa3a4ff0_1445_11e9_9380_784f435dacf5level0_row1\" class=\"row_heading level0 row1\" >cartech02</th> \n",
       "        <td id=\"T_aa3a4ff0_1445_11e9_9380_784f435dacf5row1_col0\" class=\"data row1 col0\" >898</td> \n",
       "        <td id=\"T_aa3a4ff0_1445_11e9_9380_784f435dacf5row1_col1\" class=\"data row1 col1\" >nan</td> \n",
       "        <td id=\"T_aa3a4ff0_1445_11e9_9380_784f435dacf5row1_col2\" class=\"data row1 col2\" >193</td> \n",
       "        <td id=\"T_aa3a4ff0_1445_11e9_9380_784f435dacf5row1_col3\" class=\"data row1 col3\" >nan</td> \n",
       "        <td id=\"T_aa3a4ff0_1445_11e9_9380_784f435dacf5row1_col4\" class=\"data row1 col4\" >118</td> \n",
       "    </tr>    <tr> \n",
       "        <th id=\"T_aa3a4ff0_1445_11e9_9380_784f435dacf5level0_row2\" class=\"row_heading level0 row2\" >castrja01</th> \n",
       "        <td id=\"T_aa3a4ff0_1445_11e9_9380_784f435dacf5row2_col0\" class=\"data row2 col0\" >802</td> \n",
       "        <td id=\"T_aa3a4ff0_1445_11e9_9380_784f435dacf5row2_col1\" class=\"data row2 col1\" >nan</td> \n",
       "        <td id=\"T_aa3a4ff0_1445_11e9_9380_784f435dacf5row2_col2\" class=\"data row2 col2\" >174</td> \n",
       "        <td id=\"T_aa3a4ff0_1445_11e9_9380_784f435dacf5row2_col3\" class=\"data row2 col3\" >nan</td> \n",
       "        <td id=\"T_aa3a4ff0_1445_11e9_9380_784f435dacf5row2_col4\" class=\"data row2 col4\" >81</td> \n",
       "    </tr>    <tr> \n",
       "        <th id=\"T_aa3a4ff0_1445_11e9_9380_784f435dacf5level0_row3\" class=\"row_heading level0 row3\" >congeha01</th> \n",
       "        <td id=\"T_aa3a4ff0_1445_11e9_9380_784f435dacf5row3_col0\" class=\"data row3 col0\" >nan</td> \n",
       "        <td id=\"T_aa3a4ff0_1445_11e9_9380_784f435dacf5row3_col1\" class=\"data row3 col1\" >nan</td> \n",
       "        <td id=\"T_aa3a4ff0_1445_11e9_9380_784f435dacf5row3_col2\" class=\"data row3 col2\" >nan</td> \n",
       "        <td id=\"T_aa3a4ff0_1445_11e9_9380_784f435dacf5row3_col3\" class=\"data row3 col3\" >nan</td> \n",
       "        <td id=\"T_aa3a4ff0_1445_11e9_9380_784f435dacf5row3_col4\" class=\"data row3 col4\" >nan</td> \n",
       "    </tr>    <tr> \n",
       "        <th id=\"T_aa3a4ff0_1445_11e9_9380_784f435dacf5level0_row4\" class=\"row_heading level0 row4\" >corpoca01</th> \n",
       "        <td id=\"T_aa3a4ff0_1445_11e9_9380_784f435dacf5row4_col0\" class=\"data row4 col0\" >nan</td> \n",
       "        <td id=\"T_aa3a4ff0_1445_11e9_9380_784f435dacf5row4_col1\" class=\"data row4 col1\" >nan</td> \n",
       "        <td id=\"T_aa3a4ff0_1445_11e9_9380_784f435dacf5row4_col2\" class=\"data row4 col2\" >nan</td> \n",
       "        <td id=\"T_aa3a4ff0_1445_11e9_9380_784f435dacf5row4_col3\" class=\"data row4 col3\" >nan</td> \n",
       "        <td id=\"T_aa3a4ff0_1445_11e9_9380_784f435dacf5row4_col4\" class=\"data row4 col4\" >nan</td> \n",
       "    </tr>    <tr> \n",
       "        <th id=\"T_aa3a4ff0_1445_11e9_9380_784f435dacf5level0_row5\" class=\"row_heading level0 row5\" >correca01</th> \n",
       "        <td id=\"T_aa3a4ff0_1445_11e9_9380_784f435dacf5row5_col0\" class=\"data row5 col0\" >nan</td> \n",
       "        <td id=\"T_aa3a4ff0_1445_11e9_9380_784f435dacf5row5_col1\" class=\"data row5 col1\" >nan</td> \n",
       "        <td id=\"T_aa3a4ff0_1445_11e9_9380_784f435dacf5row5_col2\" class=\"data row5 col2\" >nan</td> \n",
       "        <td id=\"T_aa3a4ff0_1445_11e9_9380_784f435dacf5row5_col3\" class=\"data row5 col3\" >nan</td> \n",
       "        <td id=\"T_aa3a4ff0_1445_11e9_9380_784f435dacf5row5_col4\" class=\"data row5 col4\" >nan</td> \n",
       "    </tr>    <tr> \n",
       "        <th id=\"T_aa3a4ff0_1445_11e9_9380_784f435dacf5level0_row6\" class=\"row_heading level0 row6\" >dominma01</th> \n",
       "        <td id=\"T_aa3a4ff0_1445_11e9_9380_784f435dacf5row6_col0\" class=\"data row6 col0\" >nan</td> \n",
       "        <td id=\"T_aa3a4ff0_1445_11e9_9380_784f435dacf5row6_col1\" class=\"data row6 col1\" >nan</td> \n",
       "        <td id=\"T_aa3a4ff0_1445_11e9_9380_784f435dacf5row6_col2\" class=\"data row6 col2\" >nan</td> \n",
       "        <td id=\"T_aa3a4ff0_1445_11e9_9380_784f435dacf5row6_col3\" class=\"data row6 col3\" >nan</td> \n",
       "        <td id=\"T_aa3a4ff0_1445_11e9_9380_784f435dacf5row6_col4\" class=\"data row6 col4\" >nan</td> \n",
       "    </tr>    <tr> \n",
       "        <th id=\"T_aa3a4ff0_1445_11e9_9380_784f435dacf5level0_row7\" class=\"row_heading level0 row7\" >fowlede01</th> \n",
       "        <td id=\"T_aa3a4ff0_1445_11e9_9380_784f435dacf5row7_col0\" class=\"data row7 col0\" >nan</td> \n",
       "        <td id=\"T_aa3a4ff0_1445_11e9_9380_784f435dacf5row7_col1\" class=\"data row7 col1\" >nan</td> \n",
       "        <td id=\"T_aa3a4ff0_1445_11e9_9380_784f435dacf5row7_col2\" class=\"data row7 col2\" >nan</td> \n",
       "        <td id=\"T_aa3a4ff0_1445_11e9_9380_784f435dacf5row7_col3\" class=\"data row7 col3\" >nan</td> \n",
       "        <td id=\"T_aa3a4ff0_1445_11e9_9380_784f435dacf5row7_col4\" class=\"data row7 col4\" >nan</td> \n",
       "    </tr>    <tr> \n",
       "        <th id=\"T_aa3a4ff0_1445_11e9_9380_784f435dacf5level0_row8\" class=\"row_heading level0 row8\" >gattiev01</th> \n",
       "        <td id=\"T_aa3a4ff0_1445_11e9_9380_784f435dacf5row8_col0\" class=\"data row8 col0\" >nan</td> \n",
       "        <td id=\"T_aa3a4ff0_1445_11e9_9380_784f435dacf5row8_col1\" class=\"data row8 col1\" >nan</td> \n",
       "        <td id=\"T_aa3a4ff0_1445_11e9_9380_784f435dacf5row8_col2\" class=\"data row8 col2\" >nan</td> \n",
       "        <td id=\"T_aa3a4ff0_1445_11e9_9380_784f435dacf5row8_col3\" class=\"data row8 col3\" >nan</td> \n",
       "        <td id=\"T_aa3a4ff0_1445_11e9_9380_784f435dacf5row8_col4\" class=\"data row8 col4\" >nan</td> \n",
       "    </tr>    <tr> \n",
       "        <th id=\"T_aa3a4ff0_1445_11e9_9380_784f435dacf5level0_row9\" class=\"row_heading level0 row9\" >gomezca01</th> \n",
       "        <td id=\"T_aa3a4ff0_1445_11e9_9380_784f435dacf5row9_col0\" class=\"data row9 col0\" >nan</td> \n",
       "        <td id=\"T_aa3a4ff0_1445_11e9_9380_784f435dacf5row9_col1\" class=\"data row9 col1\" >nan</td> \n",
       "        <td id=\"T_aa3a4ff0_1445_11e9_9380_784f435dacf5row9_col2\" class=\"data row9 col2\" >nan</td> \n",
       "        <td id=\"T_aa3a4ff0_1445_11e9_9380_784f435dacf5row9_col3\" class=\"data row9 col3\" >nan</td> \n",
       "        <td id=\"T_aa3a4ff0_1445_11e9_9380_784f435dacf5row9_col4\" class=\"data row9 col4\" >nan</td> \n",
       "    </tr></tbody> \n",
       "</table> "
      ],
      "text/plain": [
       "<pandas.io.formats.style.Styler at 0x10e5d8ba8>"
      ]
     },
     "execution_count": 44,
     "metadata": {},
     "output_type": "execute_result"
    }
   ],
   "source": [
    "(df_14 + df_15).head(10).style.highlight_null('yellow')"
   ]
  },
  {
   "cell_type": "code",
   "execution_count": 45,
   "metadata": {},
   "outputs": [
    {
     "data": {
      "text/html": [
       "<style  type=\"text/css\" >\n",
       "    #T_767f572c_1446_11e9_a58e_784f435dacf5row3_col1 {\n",
       "            background-color:  yellow;\n",
       "        }    #T_767f572c_1446_11e9_a58e_784f435dacf5row4_col3 {\n",
       "            background-color:  yellow;\n",
       "        }    #T_767f572c_1446_11e9_a58e_784f435dacf5row5_col1 {\n",
       "            background-color:  yellow;\n",
       "        }    #T_767f572c_1446_11e9_a58e_784f435dacf5row6_col3 {\n",
       "            background-color:  yellow;\n",
       "        }    #T_767f572c_1446_11e9_a58e_784f435dacf5row7_col3 {\n",
       "            background-color:  yellow;\n",
       "        }    #T_767f572c_1446_11e9_a58e_784f435dacf5row8_col1 {\n",
       "            background-color:  yellow;\n",
       "        }    #T_767f572c_1446_11e9_a58e_784f435dacf5row9_col1 {\n",
       "            background-color:  yellow;\n",
       "        }</style>  \n",
       "<table id=\"T_767f572c_1446_11e9_a58e_784f435dacf5\" > \n",
       "<thead>    <tr> \n",
       "        <th class=\"blank level0\" ></th> \n",
       "        <th class=\"col_heading level0 col0\" >AB</th> \n",
       "        <th class=\"col_heading level0 col1\" >G</th> \n",
       "        <th class=\"col_heading level0 col2\" >H</th> \n",
       "        <th class=\"col_heading level0 col3\" >HR</th> \n",
       "        <th class=\"col_heading level0 col4\" >R</th> \n",
       "    </tr>    <tr> \n",
       "        <th class=\"index_name level0\" >playerID</th> \n",
       "        <th class=\"blank\" ></th> \n",
       "        <th class=\"blank\" ></th> \n",
       "        <th class=\"blank\" ></th> \n",
       "        <th class=\"blank\" ></th> \n",
       "        <th class=\"blank\" ></th> \n",
       "    </tr></thead> \n",
       "<tbody>    <tr> \n",
       "        <th id=\"T_767f572c_1446_11e9_a58e_784f435dacf5level0_row0\" class=\"row_heading level0 row0\" >altuvjo01</th> \n",
       "        <td id=\"T_767f572c_1446_11e9_a58e_784f435dacf5row0_col0\" class=\"data row0 col0\" >1298</td> \n",
       "        <td id=\"T_767f572c_1446_11e9_a58e_784f435dacf5row0_col1\" class=\"data row0 col1\" >158</td> \n",
       "        <td id=\"T_767f572c_1446_11e9_a58e_784f435dacf5row0_col2\" class=\"data row0 col2\" >425</td> \n",
       "        <td id=\"T_767f572c_1446_11e9_a58e_784f435dacf5row0_col3\" class=\"data row0 col3\" >15</td> \n",
       "        <td id=\"T_767f572c_1446_11e9_a58e_784f435dacf5row0_col4\" class=\"data row0 col4\" >171</td> \n",
       "    </tr>    <tr> \n",
       "        <th id=\"T_767f572c_1446_11e9_a58e_784f435dacf5level0_row1\" class=\"row_heading level0 row1\" >cartech02</th> \n",
       "        <td id=\"T_767f572c_1446_11e9_a58e_784f435dacf5row1_col0\" class=\"data row1 col0\" >898</td> \n",
       "        <td id=\"T_767f572c_1446_11e9_a58e_784f435dacf5row1_col1\" class=\"data row1 col1\" >145</td> \n",
       "        <td id=\"T_767f572c_1446_11e9_a58e_784f435dacf5row1_col2\" class=\"data row1 col2\" >193</td> \n",
       "        <td id=\"T_767f572c_1446_11e9_a58e_784f435dacf5row1_col3\" class=\"data row1 col3\" >24</td> \n",
       "        <td id=\"T_767f572c_1446_11e9_a58e_784f435dacf5row1_col4\" class=\"data row1 col4\" >118</td> \n",
       "    </tr>    <tr> \n",
       "        <th id=\"T_767f572c_1446_11e9_a58e_784f435dacf5level0_row2\" class=\"row_heading level0 row2\" >castrja01</th> \n",
       "        <td id=\"T_767f572c_1446_11e9_a58e_784f435dacf5row2_col0\" class=\"data row2 col0\" >802</td> \n",
       "        <td id=\"T_767f572c_1446_11e9_a58e_784f435dacf5row2_col1\" class=\"data row2 col1\" >126</td> \n",
       "        <td id=\"T_767f572c_1446_11e9_a58e_784f435dacf5row2_col2\" class=\"data row2 col2\" >174</td> \n",
       "        <td id=\"T_767f572c_1446_11e9_a58e_784f435dacf5row2_col3\" class=\"data row2 col3\" >11</td> \n",
       "        <td id=\"T_767f572c_1446_11e9_a58e_784f435dacf5row2_col4\" class=\"data row2 col4\" >81</td> \n",
       "    </tr>    <tr> \n",
       "        <th id=\"T_767f572c_1446_11e9_a58e_784f435dacf5level0_row3\" class=\"row_heading level0 row3\" >congeha01</th> \n",
       "        <td id=\"T_767f572c_1446_11e9_a58e_784f435dacf5row3_col0\" class=\"data row3 col0\" >201</td> \n",
       "        <td id=\"T_767f572c_1446_11e9_a58e_784f435dacf5row3_col1\" class=\"data row3 col1\" >nan</td> \n",
       "        <td id=\"T_767f572c_1446_11e9_a58e_784f435dacf5row3_col2\" class=\"data row3 col2\" >46</td> \n",
       "        <td id=\"T_767f572c_1446_11e9_a58e_784f435dacf5row3_col3\" class=\"data row3 col3\" >11</td> \n",
       "        <td id=\"T_767f572c_1446_11e9_a58e_784f435dacf5row3_col4\" class=\"data row3 col4\" >25</td> \n",
       "    </tr>    <tr> \n",
       "        <th id=\"T_767f572c_1446_11e9_a58e_784f435dacf5level0_row4\" class=\"row_heading level0 row4\" >corpoca01</th> \n",
       "        <td id=\"T_767f572c_1446_11e9_a58e_784f435dacf5row4_col0\" class=\"data row4 col0\" >170</td> \n",
       "        <td id=\"T_767f572c_1446_11e9_a58e_784f435dacf5row4_col1\" class=\"data row4 col1\" >55</td> \n",
       "        <td id=\"T_767f572c_1446_11e9_a58e_784f435dacf5row4_col2\" class=\"data row4 col2\" >40</td> \n",
       "        <td id=\"T_767f572c_1446_11e9_a58e_784f435dacf5row4_col3\" class=\"data row4 col3\" >nan</td> \n",
       "        <td id=\"T_767f572c_1446_11e9_a58e_784f435dacf5row4_col4\" class=\"data row4 col4\" >22</td> \n",
       "    </tr>    <tr> \n",
       "        <th id=\"T_767f572c_1446_11e9_a58e_784f435dacf5level0_row5\" class=\"row_heading level0 row5\" >correca01</th> \n",
       "        <td id=\"T_767f572c_1446_11e9_a58e_784f435dacf5row5_col0\" class=\"data row5 col0\" >387</td> \n",
       "        <td id=\"T_767f572c_1446_11e9_a58e_784f435dacf5row5_col1\" class=\"data row5 col1\" >nan</td> \n",
       "        <td id=\"T_767f572c_1446_11e9_a58e_784f435dacf5row5_col2\" class=\"data row5 col2\" >108</td> \n",
       "        <td id=\"T_767f572c_1446_11e9_a58e_784f435dacf5row5_col3\" class=\"data row5 col3\" >22</td> \n",
       "        <td id=\"T_767f572c_1446_11e9_a58e_784f435dacf5row5_col4\" class=\"data row5 col4\" >52</td> \n",
       "    </tr>    <tr> \n",
       "        <th id=\"T_767f572c_1446_11e9_a58e_784f435dacf5level0_row6\" class=\"row_heading level0 row6\" >dominma01</th> \n",
       "        <td id=\"T_767f572c_1446_11e9_a58e_784f435dacf5row6_col0\" class=\"data row6 col0\" >564</td> \n",
       "        <td id=\"T_767f572c_1446_11e9_a58e_784f435dacf5row6_col1\" class=\"data row6 col1\" >157</td> \n",
       "        <td id=\"T_767f572c_1446_11e9_a58e_784f435dacf5row6_col2\" class=\"data row6 col2\" >121</td> \n",
       "        <td id=\"T_767f572c_1446_11e9_a58e_784f435dacf5row6_col3\" class=\"data row6 col3\" >nan</td> \n",
       "        <td id=\"T_767f572c_1446_11e9_a58e_784f435dacf5row6_col4\" class=\"data row6 col4\" >51</td> \n",
       "    </tr>    <tr> \n",
       "        <th id=\"T_767f572c_1446_11e9_a58e_784f435dacf5level0_row7\" class=\"row_heading level0 row7\" >fowlede01</th> \n",
       "        <td id=\"T_767f572c_1446_11e9_a58e_784f435dacf5row7_col0\" class=\"data row7 col0\" >434</td> \n",
       "        <td id=\"T_767f572c_1446_11e9_a58e_784f435dacf5row7_col1\" class=\"data row7 col1\" >116</td> \n",
       "        <td id=\"T_767f572c_1446_11e9_a58e_784f435dacf5row7_col2\" class=\"data row7 col2\" >120</td> \n",
       "        <td id=\"T_767f572c_1446_11e9_a58e_784f435dacf5row7_col3\" class=\"data row7 col3\" >nan</td> \n",
       "        <td id=\"T_767f572c_1446_11e9_a58e_784f435dacf5row7_col4\" class=\"data row7 col4\" >61</td> \n",
       "    </tr>    <tr> \n",
       "        <th id=\"T_767f572c_1446_11e9_a58e_784f435dacf5level0_row8\" class=\"row_heading level0 row8\" >gattiev01</th> \n",
       "        <td id=\"T_767f572c_1446_11e9_a58e_784f435dacf5row8_col0\" class=\"data row8 col0\" >566</td> \n",
       "        <td id=\"T_767f572c_1446_11e9_a58e_784f435dacf5row8_col1\" class=\"data row8 col1\" >nan</td> \n",
       "        <td id=\"T_767f572c_1446_11e9_a58e_784f435dacf5row8_col2\" class=\"data row8 col2\" >139</td> \n",
       "        <td id=\"T_767f572c_1446_11e9_a58e_784f435dacf5row8_col3\" class=\"data row8 col3\" >27</td> \n",
       "        <td id=\"T_767f572c_1446_11e9_a58e_784f435dacf5row8_col4\" class=\"data row8 col4\" >66</td> \n",
       "    </tr>    <tr> \n",
       "        <th id=\"T_767f572c_1446_11e9_a58e_784f435dacf5level0_row9\" class=\"row_heading level0 row9\" >gomezca01</th> \n",
       "        <td id=\"T_767f572c_1446_11e9_a58e_784f435dacf5row9_col0\" class=\"data row9 col0\" >149</td> \n",
       "        <td id=\"T_767f572c_1446_11e9_a58e_784f435dacf5row9_col1\" class=\"data row9 col1\" >nan</td> \n",
       "        <td id=\"T_767f572c_1446_11e9_a58e_784f435dacf5row9_col2\" class=\"data row9 col2\" >36</td> \n",
       "        <td id=\"T_767f572c_1446_11e9_a58e_784f435dacf5row9_col3\" class=\"data row9 col3\" >4</td> \n",
       "        <td id=\"T_767f572c_1446_11e9_a58e_784f435dacf5row9_col4\" class=\"data row9 col4\" >19</td> \n",
       "    </tr></tbody> \n",
       "</table> "
      ],
      "text/plain": [
       "<pandas.io.formats.style.Styler at 0x10defcef0>"
      ]
     },
     "execution_count": 45,
     "metadata": {},
     "output_type": "execute_result"
    }
   ],
   "source": [
    "df_14.add(df_15, fill_value=0).head(10) \\\n",
    "     .style.highlight_null('yellow')"
   ]
  },
  {
   "cell_type": "markdown",
   "metadata": {},
   "source": [
    "## Appending columns from different DataFrames"
   ]
  },
  {
   "cell_type": "code",
   "execution_count": 46,
   "metadata": {},
   "outputs": [],
   "source": [
    "employee = pd.read_csv('data/employee.csv')\n",
    "dept_sal = employee[['DEPARTMENT', 'BASE_SALARY']]"
   ]
  },
  {
   "cell_type": "code",
   "execution_count": 49,
   "metadata": {},
   "outputs": [],
   "source": [
    "dept_sal = dept_sal.sort_values(['DEPARTMENT', 'BASE_SALARY'],\n",
    "                                 ascending=[True, False])"
   ]
  },
  {
   "cell_type": "code",
   "execution_count": 50,
   "metadata": {},
   "outputs": [
    {
     "data": {
      "text/html": [
       "<div>\n",
       "<style scoped>\n",
       "    .dataframe tbody tr th:only-of-type {\n",
       "        vertical-align: middle;\n",
       "    }\n",
       "\n",
       "    .dataframe tbody tr th {\n",
       "        vertical-align: top;\n",
       "    }\n",
       "\n",
       "    .dataframe thead th {\n",
       "        text-align: right;\n",
       "    }\n",
       "</style>\n",
       "<table border=\"1\" class=\"dataframe\">\n",
       "  <thead>\n",
       "    <tr style=\"text-align: right;\">\n",
       "      <th></th>\n",
       "      <th>DEPARTMENT</th>\n",
       "      <th>BASE_SALARY</th>\n",
       "    </tr>\n",
       "  </thead>\n",
       "  <tbody>\n",
       "    <tr>\n",
       "      <th>1494</th>\n",
       "      <td>Admn. &amp; Regulatory Affairs</td>\n",
       "      <td>140416.0</td>\n",
       "    </tr>\n",
       "    <tr>\n",
       "      <th>149</th>\n",
       "      <td>City Controller's Office</td>\n",
       "      <td>64251.0</td>\n",
       "    </tr>\n",
       "    <tr>\n",
       "      <th>236</th>\n",
       "      <td>City Council</td>\n",
       "      <td>100000.0</td>\n",
       "    </tr>\n",
       "    <tr>\n",
       "      <th>647</th>\n",
       "      <td>Convention and Entertainment</td>\n",
       "      <td>38397.0</td>\n",
       "    </tr>\n",
       "    <tr>\n",
       "      <th>1500</th>\n",
       "      <td>Dept of Neighborhoods (DON)</td>\n",
       "      <td>89221.0</td>\n",
       "    </tr>\n",
       "  </tbody>\n",
       "</table>\n",
       "</div>"
      ],
      "text/plain": [
       "                        DEPARTMENT  BASE_SALARY\n",
       "1494    Admn. & Regulatory Affairs     140416.0\n",
       "149       City Controller's Office      64251.0\n",
       "236                   City Council     100000.0\n",
       "647   Convention and Entertainment      38397.0\n",
       "1500   Dept of Neighborhoods (DON)      89221.0"
      ]
     },
     "execution_count": 50,
     "metadata": {},
     "output_type": "execute_result"
    }
   ],
   "source": [
    "max_dept_sal = dept_sal.drop_duplicates(subset='DEPARTMENT')\n",
    "max_dept_sal.head()"
   ]
  },
  {
   "cell_type": "code",
   "execution_count": 51,
   "metadata": {},
   "outputs": [],
   "source": [
    "max_dept_sal = max_dept_sal.set_index('DEPARTMENT')\n",
    "employee = employee.set_index('DEPARTMENT')"
   ]
  },
  {
   "cell_type": "code",
   "execution_count": 52,
   "metadata": {},
   "outputs": [
    {
     "data": {
      "text/html": [
       "<div>\n",
       "<style scoped>\n",
       "    .dataframe tbody tr th:only-of-type {\n",
       "        vertical-align: middle;\n",
       "    }\n",
       "\n",
       "    .dataframe tbody tr th {\n",
       "        vertical-align: top;\n",
       "    }\n",
       "\n",
       "    .dataframe thead th {\n",
       "        text-align: right;\n",
       "    }\n",
       "</style>\n",
       "<table border=\"1\" class=\"dataframe\">\n",
       "  <thead>\n",
       "    <tr style=\"text-align: right;\">\n",
       "      <th></th>\n",
       "      <th>UNIQUE_ID</th>\n",
       "      <th>POSITION_TITLE</th>\n",
       "      <th>BASE_SALARY</th>\n",
       "      <th>RACE</th>\n",
       "      <th>EMPLOYMENT_TYPE</th>\n",
       "      <th>GENDER</th>\n",
       "      <th>EMPLOYMENT_STATUS</th>\n",
       "      <th>HIRE_DATE</th>\n",
       "      <th>JOB_DATE</th>\n",
       "      <th>MAX_DEPT_SALARY</th>\n",
       "    </tr>\n",
       "    <tr>\n",
       "      <th>DEPARTMENT</th>\n",
       "      <th></th>\n",
       "      <th></th>\n",
       "      <th></th>\n",
       "      <th></th>\n",
       "      <th></th>\n",
       "      <th></th>\n",
       "      <th></th>\n",
       "      <th></th>\n",
       "      <th></th>\n",
       "      <th></th>\n",
       "    </tr>\n",
       "  </thead>\n",
       "  <tbody>\n",
       "    <tr>\n",
       "      <th>Municipal Courts Department</th>\n",
       "      <td>0</td>\n",
       "      <td>ASSISTANT DIRECTOR (EX LVL)</td>\n",
       "      <td>121862.0</td>\n",
       "      <td>Hispanic/Latino</td>\n",
       "      <td>Full Time</td>\n",
       "      <td>Female</td>\n",
       "      <td>Active</td>\n",
       "      <td>2006-06-12</td>\n",
       "      <td>2012-10-13</td>\n",
       "      <td>121862.0</td>\n",
       "    </tr>\n",
       "    <tr>\n",
       "      <th>Library</th>\n",
       "      <td>1</td>\n",
       "      <td>LIBRARY ASSISTANT</td>\n",
       "      <td>26125.0</td>\n",
       "      <td>Hispanic/Latino</td>\n",
       "      <td>Full Time</td>\n",
       "      <td>Female</td>\n",
       "      <td>Active</td>\n",
       "      <td>2000-07-19</td>\n",
       "      <td>2010-09-18</td>\n",
       "      <td>107763.0</td>\n",
       "    </tr>\n",
       "    <tr>\n",
       "      <th>Houston Police Department-HPD</th>\n",
       "      <td>2</td>\n",
       "      <td>POLICE OFFICER</td>\n",
       "      <td>45279.0</td>\n",
       "      <td>White</td>\n",
       "      <td>Full Time</td>\n",
       "      <td>Male</td>\n",
       "      <td>Active</td>\n",
       "      <td>2015-02-03</td>\n",
       "      <td>2015-02-03</td>\n",
       "      <td>199596.0</td>\n",
       "    </tr>\n",
       "    <tr>\n",
       "      <th>Houston Fire Department (HFD)</th>\n",
       "      <td>3</td>\n",
       "      <td>ENGINEER/OPERATOR</td>\n",
       "      <td>63166.0</td>\n",
       "      <td>White</td>\n",
       "      <td>Full Time</td>\n",
       "      <td>Male</td>\n",
       "      <td>Active</td>\n",
       "      <td>1982-02-08</td>\n",
       "      <td>1991-05-25</td>\n",
       "      <td>210588.0</td>\n",
       "    </tr>\n",
       "    <tr>\n",
       "      <th>General Services Department</th>\n",
       "      <td>4</td>\n",
       "      <td>ELECTRICIAN</td>\n",
       "      <td>56347.0</td>\n",
       "      <td>White</td>\n",
       "      <td>Full Time</td>\n",
       "      <td>Male</td>\n",
       "      <td>Active</td>\n",
       "      <td>1989-06-19</td>\n",
       "      <td>1994-10-22</td>\n",
       "      <td>89194.0</td>\n",
       "    </tr>\n",
       "  </tbody>\n",
       "</table>\n",
       "</div>"
      ],
      "text/plain": [
       "                               UNIQUE_ID               POSITION_TITLE  \\\n",
       "DEPARTMENT                                                              \n",
       "Municipal Courts Department            0  ASSISTANT DIRECTOR (EX LVL)   \n",
       "Library                                1            LIBRARY ASSISTANT   \n",
       "Houston Police Department-HPD          2               POLICE OFFICER   \n",
       "Houston Fire Department (HFD)          3            ENGINEER/OPERATOR   \n",
       "General Services Department            4                  ELECTRICIAN   \n",
       "\n",
       "                               BASE_SALARY             RACE EMPLOYMENT_TYPE  \\\n",
       "DEPARTMENT                                                                    \n",
       "Municipal Courts Department       121862.0  Hispanic/Latino       Full Time   \n",
       "Library                            26125.0  Hispanic/Latino       Full Time   \n",
       "Houston Police Department-HPD      45279.0            White       Full Time   \n",
       "Houston Fire Department (HFD)      63166.0            White       Full Time   \n",
       "General Services Department        56347.0            White       Full Time   \n",
       "\n",
       "                               GENDER EMPLOYMENT_STATUS   HIRE_DATE  \\\n",
       "DEPARTMENT                                                            \n",
       "Municipal Courts Department    Female            Active  2006-06-12   \n",
       "Library                        Female            Active  2000-07-19   \n",
       "Houston Police Department-HPD    Male            Active  2015-02-03   \n",
       "Houston Fire Department (HFD)    Male            Active  1982-02-08   \n",
       "General Services Department      Male            Active  1989-06-19   \n",
       "\n",
       "                                 JOB_DATE  MAX_DEPT_SALARY  \n",
       "DEPARTMENT                                                  \n",
       "Municipal Courts Department    2012-10-13         121862.0  \n",
       "Library                        2010-09-18         107763.0  \n",
       "Houston Police Department-HPD  2015-02-03         199596.0  \n",
       "Houston Fire Department (HFD)  1991-05-25         210588.0  \n",
       "General Services Department    1994-10-22          89194.0  "
      ]
     },
     "execution_count": 52,
     "metadata": {},
     "output_type": "execute_result"
    }
   ],
   "source": [
    "employee['MAX_DEPT_SALARY'] = max_dept_sal['BASE_SALARY']\n",
    "employee.head()"
   ]
  },
  {
   "cell_type": "code",
   "execution_count": 53,
   "metadata": {},
   "outputs": [
    {
     "data": {
      "text/html": [
       "<div>\n",
       "<style scoped>\n",
       "    .dataframe tbody tr th:only-of-type {\n",
       "        vertical-align: middle;\n",
       "    }\n",
       "\n",
       "    .dataframe tbody tr th {\n",
       "        vertical-align: top;\n",
       "    }\n",
       "\n",
       "    .dataframe thead th {\n",
       "        text-align: right;\n",
       "    }\n",
       "</style>\n",
       "<table border=\"1\" class=\"dataframe\">\n",
       "  <thead>\n",
       "    <tr style=\"text-align: right;\">\n",
       "      <th></th>\n",
       "      <th>UNIQUE_ID</th>\n",
       "      <th>POSITION_TITLE</th>\n",
       "      <th>BASE_SALARY</th>\n",
       "      <th>RACE</th>\n",
       "      <th>EMPLOYMENT_TYPE</th>\n",
       "      <th>GENDER</th>\n",
       "      <th>EMPLOYMENT_STATUS</th>\n",
       "      <th>HIRE_DATE</th>\n",
       "      <th>JOB_DATE</th>\n",
       "      <th>MAX_DEPT_SALARY</th>\n",
       "    </tr>\n",
       "    <tr>\n",
       "      <th>DEPARTMENT</th>\n",
       "      <th></th>\n",
       "      <th></th>\n",
       "      <th></th>\n",
       "      <th></th>\n",
       "      <th></th>\n",
       "      <th></th>\n",
       "      <th></th>\n",
       "      <th></th>\n",
       "      <th></th>\n",
       "      <th></th>\n",
       "    </tr>\n",
       "  </thead>\n",
       "  <tbody>\n",
       "  </tbody>\n",
       "</table>\n",
       "</div>"
      ],
      "text/plain": [
       "Empty DataFrame\n",
       "Columns: [UNIQUE_ID, POSITION_TITLE, BASE_SALARY, RACE, EMPLOYMENT_TYPE, GENDER, EMPLOYMENT_STATUS, HIRE_DATE, JOB_DATE, MAX_DEPT_SALARY]\n",
       "Index: []"
      ]
     },
     "execution_count": 53,
     "metadata": {},
     "output_type": "execute_result"
    }
   ],
   "source": [
    "employee.query('BASE_SALARY > MAX_DEPT_SALARY')"
   ]
  },
  {
   "cell_type": "code",
   "execution_count": 54,
   "metadata": {},
   "outputs": [
    {
     "data": {
      "text/html": [
       "<div>\n",
       "<style scoped>\n",
       "    .dataframe tbody tr th:only-of-type {\n",
       "        vertical-align: middle;\n",
       "    }\n",
       "\n",
       "    .dataframe tbody tr th {\n",
       "        vertical-align: top;\n",
       "    }\n",
       "\n",
       "    .dataframe thead th {\n",
       "        text-align: right;\n",
       "    }\n",
       "</style>\n",
       "<table border=\"1\" class=\"dataframe\">\n",
       "  <thead>\n",
       "    <tr style=\"text-align: right;\">\n",
       "      <th></th>\n",
       "      <th>BASE_SALARY</th>\n",
       "    </tr>\n",
       "    <tr>\n",
       "      <th>DEPARTMENT</th>\n",
       "      <th></th>\n",
       "    </tr>\n",
       "  </thead>\n",
       "  <tbody>\n",
       "    <tr>\n",
       "      <th>Public Works &amp; Engineering-PWE</th>\n",
       "      <td>50586.0</td>\n",
       "    </tr>\n",
       "    <tr>\n",
       "      <th>Houston Police Department-HPD</th>\n",
       "      <td>66614.0</td>\n",
       "    </tr>\n",
       "    <tr>\n",
       "      <th>Houston Police Department-HPD</th>\n",
       "      <td>66614.0</td>\n",
       "    </tr>\n",
       "    <tr>\n",
       "      <th>Housing and Community Devp.</th>\n",
       "      <td>78853.0</td>\n",
       "    </tr>\n",
       "    <tr>\n",
       "      <th>Houston Police Department-HPD</th>\n",
       "      <td>66614.0</td>\n",
       "    </tr>\n",
       "    <tr>\n",
       "      <th>Parks &amp; Recreation</th>\n",
       "      <td>NaN</td>\n",
       "    </tr>\n",
       "    <tr>\n",
       "      <th>Public Works &amp; Engineering-PWE</th>\n",
       "      <td>37211.0</td>\n",
       "    </tr>\n",
       "    <tr>\n",
       "      <th>Public Works &amp; Engineering-PWE</th>\n",
       "      <td>54683.0</td>\n",
       "    </tr>\n",
       "    <tr>\n",
       "      <th>Human Resources Dept.</th>\n",
       "      <td>58474.0</td>\n",
       "    </tr>\n",
       "    <tr>\n",
       "      <th>Health &amp; Human Services</th>\n",
       "      <td>47050.0</td>\n",
       "    </tr>\n",
       "  </tbody>\n",
       "</table>\n",
       "</div>"
      ],
      "text/plain": [
       "                                BASE_SALARY\n",
       "DEPARTMENT                                 \n",
       "Public Works & Engineering-PWE      50586.0\n",
       "Houston Police Department-HPD       66614.0\n",
       "Houston Police Department-HPD       66614.0\n",
       "Housing and Community Devp.         78853.0\n",
       "Houston Police Department-HPD       66614.0\n",
       "Parks & Recreation                      NaN\n",
       "Public Works & Engineering-PWE      37211.0\n",
       "Public Works & Engineering-PWE      54683.0\n",
       "Human Resources Dept.               58474.0\n",
       "Health & Human Services             47050.0"
      ]
     },
     "execution_count": 54,
     "metadata": {},
     "output_type": "execute_result"
    }
   ],
   "source": [
    "np.random.seed(1234)\n",
    "random_salary = dept_sal.sample(n=10).set_index('DEPARTMENT')\n",
    "random_salary"
   ]
  },
  {
   "cell_type": "code",
   "execution_count": 56,
   "metadata": {},
   "outputs": [],
   "source": [
    "# employee ['RANDOM_SALARY'] = random_salary['BASE_SALARY']\n",
    "# ValueError: cannot reindex from a duplicate axis"
   ]
  },
  {
   "cell_type": "code",
   "execution_count": 57,
   "metadata": {},
   "outputs": [
    {
     "data": {
      "text/plain": [
       "140416.0    29\n",
       "100000.0    11\n",
       "64251.0      5\n",
       "Name: MAX_SALARY2, dtype: int64"
      ]
     },
     "execution_count": 57,
     "metadata": {},
     "output_type": "execute_result"
    }
   ],
   "source": [
    "employee['MAX_SALARY2'] = max_dept_sal['BASE_SALARY'].head(3)\n",
    "employee.MAX_SALARY2.value_counts()"
   ]
  },
  {
   "cell_type": "code",
   "execution_count": 58,
   "metadata": {},
   "outputs": [
    {
     "data": {
      "text/plain": [
       "0.9775"
      ]
     },
     "execution_count": 58,
     "metadata": {},
     "output_type": "execute_result"
    }
   ],
   "source": [
    "employee.MAX_SALARY2.isnull().mean()"
   ]
  },
  {
   "cell_type": "markdown",
   "metadata": {},
   "source": [
    "## Highlighting the maximum value from each column"
   ]
  },
  {
   "cell_type": "code",
   "execution_count": 60,
   "metadata": {},
   "outputs": [
    {
     "data": {
      "text/plain": [
       "CITY                   object\n",
       "STABBR                 object\n",
       "HBCU                  float64\n",
       "MENONLY               float64\n",
       "WOMENONLY             float64\n",
       "RELAFFIL                int64\n",
       "SATVRMID              float64\n",
       "SATMTMID              float64\n",
       "DISTANCEONLY          float64\n",
       "UGDS                  float64\n",
       "UGDS_WHITE            float64\n",
       "UGDS_BLACK            float64\n",
       "UGDS_HISP             float64\n",
       "UGDS_ASIAN            float64\n",
       "UGDS_AIAN             float64\n",
       "UGDS_NHPI             float64\n",
       "UGDS_2MOR             float64\n",
       "UGDS_NRA              float64\n",
       "UGDS_UNKN             float64\n",
       "PPTUG_EF              float64\n",
       "CURROPER                int64\n",
       "PCTPELL               float64\n",
       "PCTFLOAN              float64\n",
       "UG25ABV               float64\n",
       "MD_EARN_WNE_P10        object\n",
       "GRAD_DEBT_MDN_SUPP     object\n",
       "dtype: object"
      ]
     },
     "execution_count": 60,
     "metadata": {},
     "output_type": "execute_result"
    }
   ],
   "source": [
    "college = pd.read_csv('data/college.csv', index_col='INSTNM')\n",
    "college.dtypes"
   ]
  },
  {
   "cell_type": "code",
   "execution_count": null,
   "metadata": {},
   "outputs": [],
   "source": []
  }
 ],
 "metadata": {
  "kernelspec": {
   "display_name": "Python 3",
   "language": "python",
   "name": "python3"
  },
  "language_info": {
   "codemirror_mode": {
    "name": "ipython",
    "version": 3
   },
   "file_extension": ".py",
   "mimetype": "text/x-python",
   "name": "python",
   "nbconvert_exporter": "python",
   "pygments_lexer": "ipython3",
   "version": "3.6.7"
  }
 },
 "nbformat": 4,
 "nbformat_minor": 2
}
