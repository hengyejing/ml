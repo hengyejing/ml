{
 "cells": [
  {
   "cell_type": "code",
   "execution_count": 1,
   "metadata": {},
   "outputs": [
    {
     "data": {
      "text/html": [
       "<style>.container { width:100% !important; }</style"
      ],
      "text/plain": [
       "<IPython.core.display.HTML object>"
      ]
     },
     "metadata": {},
     "output_type": "display_data"
    }
   ],
   "source": [
    "import pyspark.sql.functions as F\n",
    "from pyspark.sql import Window\n",
    "\n",
    "from IPython.core.display import display, HTML\n",
    "display(HTML(\"<style>.container { width:100% !important; }</style\"))"
   ]
  },
  {
   "cell_type": "code",
   "execution_count": 2,
   "metadata": {},
   "outputs": [],
   "source": [
    "df_mobile = spark.read.csv(\"F:/python/sql/query_two_mobile.csv\", header=True)"
   ]
  },
  {
   "cell_type": "code",
   "execution_count": 3,
   "metadata": {},
   "outputs": [],
   "source": [
    "df_web = spark.read.csv(\"F:/python/sql/query_two_web.csv\", header=True)"
   ]
  },
  {
   "cell_type": "code",
   "execution_count": 5,
   "metadata": {},
   "outputs": [
    {
     "name": "stdout",
     "output_type": "stream",
     "text": [
      "+-------+-------------+\n",
      "|user_id|         page|\n",
      "+-------+-------------+\n",
      "|    128|page_5_mobile|\n",
      "|   1324|page_2_mobile|\n",
      "|   1343|page_6_mobile|\n",
      "+-------+-------------+\n",
      "only showing top 3 rows\n",
      "\n"
     ]
    }
   ],
   "source": [
    "df_mobile.show(3)"
   ]
  },
  {
   "cell_type": "code",
   "execution_count": 6,
   "metadata": {},
   "outputs": [
    {
     "name": "stdout",
     "output_type": "stream",
     "text": [
      "+-------+----------+\n",
      "|user_id|      page|\n",
      "+-------+----------+\n",
      "|   1210|page_1_web|\n",
      "|   1275|page_1_web|\n",
      "|   1283|page_4_web|\n",
      "+-------+----------+\n",
      "only showing top 3 rows\n",
      "\n"
     ]
    }
   ],
   "source": [
    "df_web.show(3)"
   ]
  },
  {
   "cell_type": "code",
   "execution_count": 33,
   "metadata": {},
   "outputs": [
    {
     "name": "stdout",
     "output_type": "stream",
     "text": [
      "+-----------+-----+\n",
      "|      media|count|\n",
      "+-----------+-----+\n",
      "|       both|  962|\n",
      "|mobile only|  577|\n",
      "|   web only|  294|\n",
      "+-----------+-----+\n",
      "\n"
     ]
    }
   ],
   "source": [
    "df = df_mobile.withColumnRenamed('page', 'page_mobile')\\\n",
    "              .join(df_web, 'user_id', 'full')\\\n",
    "              .withColumn('media', F.when(F.col('page_mobile').isNull(), 'web only')\\\n",
    "                                    .when(F.col('page').isNull(), 'mobile only')\\\n",
    "                                    .otherwise('both'))\\\n",
    "              .select('user_id', 'media').distinct()\\\n",
    "              .groupBy('media').agg(F.count('user_id').alias('count')).show()\n"
   ]
  },
  {
   "cell_type": "code",
   "execution_count": 34,
   "metadata": {},
   "outputs": [],
   "source": [
    "df = df_mobile.withColumnRenamed('page', 'page_mobile')\\\n",
    "              .join(df_web, 'user_id', 'full')\\\n",
    "              .withColumn('media', F.when(F.col('page_mobile').isNull(), 'web only')\\\n",
    "                                    .when(F.col('page').isNull(), 'mobile only')\\\n",
    "                                    .otherwise('both'))\\\n",
    "              .select('user_id', 'media').distinct()\\\n",
    "              .groupBy('media').agg(F.count('user_id').alias('count'))"
   ]
  },
  {
   "cell_type": "code",
   "execution_count": 41,
   "metadata": {},
   "outputs": [
    {
     "name": "stdout",
     "output_type": "stream",
     "text": [
      "+-----------+-----+-------------------+\n",
      "|      media|count|         percentage|\n",
      "+-----------+-----+-------------------+\n",
      "|       both|  962|  0.524822695035461|\n",
      "|mobile only|  577|  0.314784506273868|\n",
      "|   web only|  294|0.16039279869067102|\n",
      "+-----------+-----+-------------------+\n",
      "\n"
     ]
    }
   ],
   "source": [
    "df.withColumn('percentage', F.col('count')/F.sum('count').over(Window.partitionBy())).show()"
   ]
  }
 ],
 "metadata": {
  "kernelspec": {
   "display_name": "Python 3",
   "language": "python",
   "name": "python3"
  },
  "language_info": {
   "codemirror_mode": {
    "name": "ipython",
    "version": 3
   },
   "file_extension": ".py",
   "mimetype": "text/x-python",
   "name": "python",
   "nbconvert_exporter": "python",
   "pygments_lexer": "ipython3",
   "version": "3.6.5"
  }
 },
 "nbformat": 4,
 "nbformat_minor": 2
}
