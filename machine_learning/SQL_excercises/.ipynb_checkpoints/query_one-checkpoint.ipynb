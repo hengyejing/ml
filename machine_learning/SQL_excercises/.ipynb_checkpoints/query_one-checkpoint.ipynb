{
 "cells": [
  {
   "cell_type": "code",
   "execution_count": 33,
   "metadata": {},
   "outputs": [
    {
     "data": {
      "text/html": [
       "<style>.container { width:100% !important; }</style"
      ],
      "text/plain": [
       "<IPython.core.display.HTML object>"
      ]
     },
     "metadata": {},
     "output_type": "display_data"
    }
   ],
   "source": [
    "import pyspark.sql.functions as F\n",
    "from pyspark.sql import Window\n",
    "\n",
    "from IPython.core.display import display, HTML\n",
    "display(HTML(\"<style>.container { width:100% !important; }</style\"))"
   ]
  },
  {
   "cell_type": "code",
   "execution_count": 5,
   "metadata": {},
   "outputs": [],
   "source": [
    "df = spark.read.csv(\"F:/python/sql/query_one.csv\", header=True)"
   ]
  },
  {
   "cell_type": "code",
   "execution_count": 6,
   "metadata": {},
   "outputs": [
    {
     "name": "stdout",
     "output_type": "stream",
     "text": [
      "+-------+------------+--------------+\n",
      "|user_id|        page|unix_timestamp|\n",
      "+-------+------------+--------------+\n",
      "|   6684|   home_page|    1451640067|\n",
      "|   8098|   home_page|    1451647141|\n",
      "|   9440|   home_page|    1451653638|\n",
      "|   1003|   home_page|    1451611211|\n",
      "|   4272|product_page|    1451628024|\n",
      "|   8067|      search|    1451647070|\n",
      "|   1314|   home_page|    1451612802|\n",
      "|    845|   home_page|    1451610443|\n",
      "|   5263|   home_page|    1451632737|\n",
      "|   7891|      search|    1451646428|\n",
      "|   3051|   home_page|    1451621943|\n",
      "|   8706|   home_page|    1451650054|\n",
      "|   1725|      search|    1451615322|\n",
      "|     52|      search|    1451606596|\n",
      "|   2176|   home_page|    1451617589|\n",
      "|   3591|   home_page|    1451624679|\n",
      "|    813|   home_page|    1451610299|\n",
      "|   9933|   home_page|    1451656083|\n",
      "|   9490|   home_page|    1451653918|\n",
      "|   4915|   home_page|    1451631062|\n",
      "+-------+------------+--------------+\n",
      "only showing top 20 rows\n",
      "\n"
     ]
    }
   ],
   "source": [
    "df.show()"
   ]
  },
  {
   "cell_type": "code",
   "execution_count": 16,
   "metadata": {},
   "outputs": [
    {
     "data": {
      "text/plain": [
       "[('user_id', 'string'), ('page', 'string'), ('unix_timestamp', 'string')]"
      ]
     },
     "execution_count": 16,
     "metadata": {},
     "output_type": "execute_result"
    }
   ],
   "source": [
    "df.dtypes"
   ]
  },
  {
   "cell_type": "code",
   "execution_count": 18,
   "metadata": {},
   "outputs": [],
   "source": [
    "from pyspark.sql.types import IntegerType"
   ]
  },
  {
   "cell_type": "code",
   "execution_count": 21,
   "metadata": {},
   "outputs": [],
   "source": [
    "df = df.withColumn('user_id', F.col('user_id').cast(IntegerType()))\\\n",
    "       .withColumn('unix_timestamp', F.col('unix_timestamp').cast(IntegerType()))"
   ]
  },
  {
   "cell_type": "code",
   "execution_count": 22,
   "metadata": {},
   "outputs": [
    {
     "data": {
      "text/plain": [
       "DataFrame[user_id: int, page: string, unix_timestamp: int]"
      ]
     },
     "execution_count": 22,
     "metadata": {},
     "output_type": "execute_result"
    }
   ],
   "source": [
    "df"
   ]
  },
  {
   "cell_type": "code",
   "execution_count": 31,
   "metadata": {},
   "outputs": [
    {
     "name": "stdout",
     "output_type": "stream",
     "text": [
      "+-------+--------------------+\n",
      "|user_id|gap_between_last_two|\n",
      "+-------+--------------------+\n",
      "|      2|                null|\n",
      "|      3|                null|\n",
      "|      3|                   2|\n",
      "|      4|                null|\n",
      "|      4|                   1|\n",
      "|      4|                  11|\n",
      "|      4|                   4|\n",
      "|      5|                null|\n",
      "|      7|                null|\n",
      "|      8|                null|\n",
      "|      9|                null|\n",
      "|     13|                null|\n",
      "|     14|                null|\n",
      "|     15|                   7|\n",
      "|     15|                null|\n",
      "|     17|                null|\n",
      "|     21|                null|\n",
      "|     22|                null|\n",
      "|     23|                null|\n",
      "|     24|                   6|\n",
      "+-------+--------------------+\n",
      "only showing top 20 rows\n",
      "\n"
     ]
    }
   ],
   "source": [
    "output = df.withColumn('last_timestamp', F.lag(F.col('unix_timestamp'), 1)\\\n",
    "                      .over(Window.partitionBy(['user_id']).orderBy('unix_timestamp')))\\\n",
    "           .withColumn('gap_from_last', F.when(F.col('last_timestamp').isNull(), None)\\\n",
    "                                         .otherwise(F.col('unix_timestamp')-F.col('last_timestamp')))\\\n",
    "           .withColumn('gap_between_last_two', F.last(F.col('gap_from_last'))\\\n",
    "                      .over(Window.partitionBy(['user_id']).orderBy('unix_timestamp')))\\\n",
    "           .select('user_id', 'gap_between_last_two')\\\n",
    "           .orderBy('user_id', ascending=True).show()"
   ]
  }
 ],
 "metadata": {
  "kernelspec": {
   "display_name": "Python 3",
   "language": "python",
   "name": "python3"
  },
  "language_info": {
   "codemirror_mode": {
    "name": "ipython",
    "version": 3
   },
   "file_extension": ".py",
   "mimetype": "text/x-python",
   "name": "python",
   "nbconvert_exporter": "python",
   "pygments_lexer": "ipython3",
   "version": "3.6.5"
  }
 },
 "nbformat": 4,
 "nbformat_minor": 2
}
