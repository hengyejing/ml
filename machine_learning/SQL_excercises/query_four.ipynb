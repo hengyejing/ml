{
 "cells": [
  {
   "cell_type": "code",
   "execution_count": 1,
   "metadata": {},
   "outputs": [
    {
     "data": {
      "text/html": [
       "<style>.container { width:100% !important; }</style"
      ],
      "text/plain": [
       "<IPython.core.display.HTML object>"
      ]
     },
     "metadata": {},
     "output_type": "display_data"
    }
   ],
   "source": [
    "import pyspark.sql.functions as F\n",
    "from pyspark.sql import Window\n",
    "\n",
    "from IPython.core.display import display, HTML\n",
    "display(HTML(\"<style>.container { width:100% !important; }</style\"))"
   ]
  },
  {
   "cell_type": "code",
   "execution_count": 6,
   "metadata": {},
   "outputs": [],
   "source": [
    "df_march = spark.read.csv(\"F:/python/sql/query_four_march.csv\", header=True)"
   ]
  },
  {
   "cell_type": "code",
   "execution_count": 7,
   "metadata": {},
   "outputs": [
    {
     "name": "stdout",
     "output_type": "stream",
     "text": [
      "+-------+----------+------------------+\n",
      "|user_id|      date|transaction_amount|\n",
      "+-------+----------+------------------+\n",
      "|  13399|2015-03-01|                18|\n",
      "|  11934|2015-03-01|                63|\n",
      "|   3542|2015-03-01|                14|\n",
      "+-------+----------+------------------+\n",
      "only showing top 3 rows\n",
      "\n"
     ]
    }
   ],
   "source": [
    "df_march.show(3)"
   ]
  },
  {
   "cell_type": "code",
   "execution_count": 11,
   "metadata": {},
   "outputs": [
    {
     "data": {
      "text/plain": [
       "[('user_id', 'string'), ('date', 'string'), ('transaction_amount', 'string')]"
      ]
     },
     "execution_count": 11,
     "metadata": {},
     "output_type": "execute_result"
    }
   ],
   "source": [
    "df_march.dtypes"
   ]
  },
  {
   "cell_type": "code",
   "execution_count": 13,
   "metadata": {},
   "outputs": [],
   "source": [
    "from pyspark.sql.types import IntegerType\n",
    "df_march = df_march.withColumn('user_id', F.col('user_id').cast(IntegerType()))\\\n",
    "                   .withColumn('transaction_amount', F.col('transaction_amount').cast(IntegerType()))"
   ]
  },
  {
   "cell_type": "code",
   "execution_count": 8,
   "metadata": {},
   "outputs": [],
   "source": [
    "df_april = spark.read.csv(\"F:/python/sql/query_four_april.csv\", header=True)"
   ]
  },
  {
   "cell_type": "code",
   "execution_count": 10,
   "metadata": {},
   "outputs": [
    {
     "name": "stdout",
     "output_type": "stream",
     "text": [
      "+-------+----------+------------------+\n",
      "|user_id|      date|transaction_amount|\n",
      "+-------+----------+------------------+\n",
      "|  15895|2015-04-01|                66|\n",
      "|    271|2015-04-01|                55|\n",
      "|   4677|2015-04-01|                73|\n",
      "+-------+----------+------------------+\n",
      "only showing top 3 rows\n",
      "\n"
     ]
    }
   ],
   "source": [
    "df_april.show(3)"
   ]
  },
  {
   "cell_type": "code",
   "execution_count": 14,
   "metadata": {},
   "outputs": [],
   "source": [
    "df_april = df_april.withColumn('user_id', F.col('user_id').cast(IntegerType()))\\\n",
    "                   .withColumn('transaction_amount', F.col('transaction_amount').cast(IntegerType()))"
   ]
  },
  {
   "cell_type": "code",
   "execution_count": 29,
   "metadata": {},
   "outputs": [],
   "source": [
    "df = df_march.union(df_april)"
   ]
  },
  {
   "cell_type": "code",
   "execution_count": 30,
   "metadata": {},
   "outputs": [
    {
     "name": "stdout",
     "output_type": "stream",
     "text": [
      "+-------+----------+------------------+\n",
      "|user_id|      date|transaction_amount|\n",
      "+-------+----------+------------------+\n",
      "|  13399|2015-03-01|                18|\n",
      "|  11934|2015-03-01|                63|\n",
      "|   3542|2015-03-01|                14|\n",
      "+-------+----------+------------------+\n",
      "only showing top 3 rows\n",
      "\n"
     ]
    }
   ],
   "source": [
    "df.show(3)"
   ]
  },
  {
   "cell_type": "code",
   "execution_count": 28,
   "metadata": {},
   "outputs": [
    {
     "name": "stdout",
     "output_type": "stream",
     "text": [
      "+-------+---------------+\n",
      "|user_id|sum_transaction|\n",
      "+-------+---------------+\n",
      "|      2|             67|\n",
      "|      3|             26|\n",
      "|      4|            156|\n",
      "|      5|             45|\n",
      "|      6|             32|\n",
      "+-------+---------------+\n",
      "only showing top 5 rows\n",
      "\n"
     ]
    }
   ],
   "source": [
    "df.groupBy('user_id').agg(F.sum('transaction_amount').alias('sum_transaction')).orderBy('user_id').show(5)"
   ]
  },
  {
   "cell_type": "code",
   "execution_count": 37,
   "metadata": {},
   "outputs": [
    {
     "name": "stdout",
     "output_type": "stream",
     "text": [
      "+-------+----------+------------------+----------------------+\n",
      "|user_id|      date|transaction_amount|cumulative_transaction|\n",
      "+-------+----------+------------------+----------------------+\n",
      "|      2|2015-03-13|                67|                    67|\n",
      "|      3|2015-03-31|                26|                    26|\n",
      "|      4|2015-03-28|                63|                    63|\n",
      "|      4|2015-04-20|                93|                   156|\n",
      "|      5|2015-03-01|                45|                    45|\n",
      "+-------+----------+------------------+----------------------+\n",
      "only showing top 5 rows\n",
      "\n"
     ]
    }
   ],
   "source": [
    "df.withColumn('cumulative_transaction', F.sum(F.col('transaction_amount'))\\\n",
    "             .over(Window.partitionBy('user_id').orderBy('date')))\\\n",
    "  .orderBy(['user_id', 'date']).show(5)"
   ]
  },
  {
   "cell_type": "code",
   "execution_count": null,
   "metadata": {},
   "outputs": [],
   "source": []
  },
  {
   "cell_type": "code",
   "execution_count": null,
   "metadata": {},
   "outputs": [],
   "source": []
  },
  {
   "cell_type": "code",
   "execution_count": null,
   "metadata": {},
   "outputs": [],
   "source": []
  },
  {
   "cell_type": "code",
   "execution_count": null,
   "metadata": {},
   "outputs": [],
   "source": []
  }
 ],
 "metadata": {
  "kernelspec": {
   "display_name": "Python 3",
   "language": "python",
   "name": "python3"
  },
  "language_info": {
   "codemirror_mode": {
    "name": "ipython",
    "version": 3
   },
   "file_extension": ".py",
   "mimetype": "text/x-python",
   "name": "python",
   "nbconvert_exporter": "python",
   "pygments_lexer": "ipython3",
   "version": "3.6.5"
  }
 },
 "nbformat": 4,
 "nbformat_minor": 2
}
