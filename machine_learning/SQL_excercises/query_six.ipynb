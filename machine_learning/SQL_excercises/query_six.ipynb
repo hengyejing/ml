{
 "cells": [
  {
   "cell_type": "code",
   "execution_count": 1,
   "metadata": {},
   "outputs": [
    {
     "data": {
      "text/html": [
       "<style>.container { width:100% !important; }</style"
      ],
      "text/plain": [
       "<IPython.core.display.HTML object>"
      ]
     },
     "metadata": {},
     "output_type": "display_data"
    }
   ],
   "source": [
    "import pyspark.sql.functions as F\n",
    "from pyspark.sql import Window\n",
    "\n",
    "from IPython.core.display import display, HTML\n",
    "display(HTML(\"<style>.container { width:100% !important; }</style\"))"
   ]
  },
  {
   "cell_type": "code",
   "execution_count": 2,
   "metadata": {},
   "outputs": [],
   "source": [
    "df = spark.read.csv(\"F:/python/sql/query_six.csv\", header=True)"
   ]
  },
  {
   "cell_type": "code",
   "execution_count": 3,
   "metadata": {},
   "outputs": [
    {
     "name": "stdout",
     "output_type": "stream",
     "text": [
      "+-------+-------------------+-------------+\n",
      "|user_id|         created_at|      country|\n",
      "+-------+-------------------+-------------+\n",
      "|      2|2015-02-28 16:00:40|        China|\n",
      "|     16|2015-02-28 16:05:15|        China|\n",
      "|     22|2015-02-28 16:09:56|        India|\n",
      "|     37|2015-02-28 16:26:44|      Vietnam|\n",
      "|     61|2015-02-28 16:29:57|        India|\n",
      "|     66|2015-02-28 16:34:56|        China|\n",
      "|    101|2015-02-28 16:38:01|        China|\n",
      "|    106|2015-02-28 16:41:42|      Nigeria|\n",
      "|    153|2015-02-28 16:58:34|        India|\n",
      "|    155|2015-02-28 16:59:45|   Bangladesh|\n",
      "|    157|2015-02-28 17:01:40|        India|\n",
      "|    182|2015-02-28 17:04:24|        China|\n",
      "|    189|2015-02-28 17:05:39|        India|\n",
      "|    227|2015-02-28 17:24:27|        India|\n",
      "|    231|2015-02-28 17:29:59|        China|\n",
      "|    234|2015-02-28 17:39:27|       Brazil|\n",
      "|    243|2015-02-28 17:42:30|        India|\n",
      "|    244|2015-02-28 17:59:18|        China|\n",
      "|    252|2015-02-28 18:15:26|        India|\n",
      "|    266|2015-02-28 18:20:24|United States|\n",
      "+-------+-------------------+-------------+\n",
      "only showing top 20 rows\n",
      "\n"
     ]
    }
   ],
   "source": [
    "df.show()"
   ]
  },
  {
   "cell_type": "code",
   "execution_count": 4,
   "metadata": {},
   "outputs": [],
   "source": [
    "from pyspark.sql.types import IntegerType\n",
    "df = df.withColumn('user_id', F.col('user_id').cast(IntegerType()))"
   ]
  },
  {
   "cell_type": "code",
   "execution_count": 6,
   "metadata": {},
   "outputs": [
    {
     "data": {
      "text/plain": [
       "[('user_id', 'int'), ('created_at', 'string'), ('country', 'string')]"
      ]
     },
     "execution_count": 6,
     "metadata": {},
     "output_type": "execute_result"
    }
   ],
   "source": [
    "df.dtypes"
   ]
  },
  {
   "cell_type": "code",
   "execution_count": 15,
   "metadata": {},
   "outputs": [
    {
     "name": "stdout",
     "output_type": "stream",
     "text": [
      "+-------------+---------+\n",
      "|      country|num_users|\n",
      "+-------------+---------+\n",
      "|      Vietnam|        1|\n",
      "|  Philippines|     1402|\n",
      "|       Mexico|     1562|\n",
      "|        Japan|     1729|\n",
      "|       Russia|     1898|\n",
      "|      Nigeria|     1986|\n",
      "|   Bangladesh|     2198|\n",
      "|     Pakistan|     2590|\n",
      "|       Brazil|     2649|\n",
      "|    Indonesia|     3410|\n",
      "|United States|     4388|\n",
      "|        India|    16564|\n",
      "|        China|    18350|\n",
      "+-------------+---------+\n",
      "\n"
     ]
    }
   ],
   "source": [
    "df.groupBy('country').agg(F.count(F.col('user_id')).alias('num_users')).orderBy('num_users')\\\n",
    "  .show()"
   ]
  },
  {
   "cell_type": "code",
   "execution_count": null,
   "metadata": {},
   "outputs": [],
   "source": []
  }
 ],
 "metadata": {
  "kernelspec": {
   "display_name": "Python 3",
   "language": "python",
   "name": "python3"
  },
  "language_info": {
   "codemirror_mode": {
    "name": "ipython",
    "version": 3
   },
   "file_extension": ".py",
   "mimetype": "text/x-python",
   "name": "python",
   "nbconvert_exporter": "python",
   "pygments_lexer": "ipython3",
   "version": "3.6.5"
  }
 },
 "nbformat": 4,
 "nbformat_minor": 2
}
