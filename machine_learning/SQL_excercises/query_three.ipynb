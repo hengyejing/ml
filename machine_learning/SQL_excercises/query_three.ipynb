{
 "cells": [
  {
   "cell_type": "code",
   "execution_count": 1,
   "metadata": {},
   "outputs": [
    {
     "data": {
      "text/html": [
       "<style>.container { width:100% !important; }</style"
      ],
      "text/plain": [
       "<IPython.core.display.HTML object>"
      ]
     },
     "metadata": {},
     "output_type": "display_data"
    }
   ],
   "source": [
    "import pyspark.sql.functions as F\n",
    "from pyspark.sql import Window\n",
    "\n",
    "from IPython.core.display import display, HTML\n",
    "display(HTML(\"<style>.container { width:100% !important; }</style\"))"
   ]
  },
  {
   "cell_type": "code",
   "execution_count": 2,
   "metadata": {},
   "outputs": [],
   "source": [
    "df = spark.read.csv(\"F:/python/sql/query_three.csv\", header=True)"
   ]
  },
  {
   "cell_type": "code",
   "execution_count": 3,
   "metadata": {},
   "outputs": [
    {
     "name": "stdout",
     "output_type": "stream",
     "text": [
      "+-------+-------------------+\n",
      "|user_id|               date|\n",
      "+-------+-------------------+\n",
      "|    675|2014-12-31 16:16:12|\n",
      "|   1967|2014-12-31 16:37:57|\n",
      "|     57|2014-12-31 17:05:32|\n",
      "+-------+-------------------+\n",
      "only showing top 3 rows\n",
      "\n"
     ]
    }
   ],
   "source": [
    "df.show(3)"
   ]
  },
  {
   "cell_type": "code",
   "execution_count": 8,
   "metadata": {},
   "outputs": [
    {
     "data": {
      "text/plain": [
       "[('user_id', 'string'), ('date', 'string')]"
      ]
     },
     "execution_count": 8,
     "metadata": {},
     "output_type": "execute_result"
    }
   ],
   "source": [
    "df.dtypes"
   ]
  },
  {
   "cell_type": "code",
   "execution_count": 9,
   "metadata": {},
   "outputs": [],
   "source": [
    "from pyspark.sql.types import IntegerType\n",
    "df = df.withColumn('user_id', F.col('user_id').cast(IntegerType()))"
   ]
  },
  {
   "cell_type": "code",
   "execution_count": 10,
   "metadata": {},
   "outputs": [
    {
     "name": "stdout",
     "output_type": "stream",
     "text": [
      "+-------+-------------------+\n",
      "|user_id|               date|\n",
      "+-------+-------------------+\n",
      "|      1|2015-10-21 06:20:14|\n",
      "|      3|2015-10-29 22:41:00|\n",
      "|      4|2015-09-25 12:36:10|\n",
      "|      5|2015-09-18 06:25:40|\n",
      "|      6|2015-12-30 00:53:59|\n",
      "|      7|2015-09-10 02:46:45|\n",
      "|     10|2015-12-24 12:52:30|\n",
      "|     11|2015-11-10 05:31:19|\n",
      "|     12|2015-10-01 20:24:07|\n",
      "|     16|2015-11-14 08:01:56|\n",
      "+-------+-------------------+\n",
      "only showing top 10 rows\n",
      "\n"
     ]
    }
   ],
   "source": [
    "df.withColumn('nth_purchase', F.count('date').over(Window.partitionBy(['user_id']).orderBy('date')))\\\n",
    "  .filter(F.col('nth_purchase')==10)\\\n",
    "  .select('user_id', 'date')\\\n",
    "  .orderBy('user_id').show(10)"
   ]
  },
  {
   "cell_type": "code",
   "execution_count": null,
   "metadata": {},
   "outputs": [],
   "source": []
  }
 ],
 "metadata": {
  "kernelspec": {
   "display_name": "Python 3",
   "language": "python",
   "name": "python3"
  },
  "language_info": {
   "codemirror_mode": {
    "name": "ipython",
    "version": 3
   },
   "file_extension": ".py",
   "mimetype": "text/x-python",
   "name": "python",
   "nbconvert_exporter": "python",
   "pygments_lexer": "ipython3",
   "version": "3.6.5"
  }
 },
 "nbformat": 4,
 "nbformat_minor": 2
}
