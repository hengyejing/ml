{
 "cells": [
  {
   "cell_type": "code",
   "execution_count": 2,
   "metadata": {},
   "outputs": [
    {
     "data": {
      "text/html": [
       "<style>.container { width:100% !important; }</style"
      ],
      "text/plain": [
       "<IPython.core.display.HTML object>"
      ]
     },
     "metadata": {},
     "output_type": "display_data"
    }
   ],
   "source": [
    "import pyspark.sql.functions as F\n",
    "from pyspark.sql import Window\n",
    "\n",
    "from pyspark.sql.types import IntegerType\n",
    "\n",
    "from IPython.core.display import display, HTML\n",
    "display(HTML(\"<style>.container { width:100% !important; }</style\"))"
   ]
  },
  {
   "cell_type": "code",
   "execution_count": 4,
   "metadata": {},
   "outputs": [],
   "source": [
    "df = spark.read.csv(\"F:/python/data/conversion_data.csv\", header=True)"
   ]
  },
  {
   "cell_type": "code",
   "execution_count": 6,
   "metadata": {},
   "outputs": [
    {
     "name": "stdout",
     "output_type": "stream",
     "text": [
      "+-------+---+--------+------+-------------------+---------+\n",
      "|country|age|new_user|source|total_pages_visited|converted|\n",
      "+-------+---+--------+------+-------------------+---------+\n",
      "|     UK| 25|       1|   Ads|                  1|        0|\n",
      "|     US| 23|       1|   Seo|                  5|        0|\n",
      "|     US| 28|       1|   Seo|                  4|        0|\n",
      "|  China| 39|       1|   Seo|                  5|        0|\n",
      "|     US| 30|       1|   Seo|                  6|        0|\n",
      "+-------+---+--------+------+-------------------+---------+\n",
      "only showing top 5 rows\n",
      "\n"
     ]
    }
   ],
   "source": [
    "df.show(5)"
   ]
  },
  {
   "cell_type": "code",
   "execution_count": 7,
   "metadata": {},
   "outputs": [
    {
     "data": {
      "text/plain": [
       "[('country', 'string'),\n",
       " ('age', 'string'),\n",
       " ('new_user', 'string'),\n",
       " ('source', 'string'),\n",
       " ('total_pages_visited', 'string'),\n",
       " ('converted', 'string')]"
      ]
     },
     "execution_count": 7,
     "metadata": {},
     "output_type": "execute_result"
    }
   ],
   "source": [
    "df.dtypes"
   ]
  },
  {
   "cell_type": "code",
   "execution_count": 8,
   "metadata": {},
   "outputs": [],
   "source": [
    "df = df.withColumn('age', F.col('age').cast(IntegerType()))\\\n",
    "       .withColumn('new_user', F.col('new_user').cast(IntegerType()))\\\n",
    "       .withColumn('total_pages_visited', F.col('total_pages_visited').cast(IntegerType()))\\\n",
    "       .withColumn('converted', F.col('converted').cast(IntegerType()))"
   ]
  },
  {
   "cell_type": "code",
   "execution_count": 9,
   "metadata": {},
   "outputs": [
    {
     "data": {
      "text/plain": [
       "[('country', 'string'),\n",
       " ('age', 'int'),\n",
       " ('new_user', 'int'),\n",
       " ('source', 'string'),\n",
       " ('total_pages_visited', 'int'),\n",
       " ('converted', 'int')]"
      ]
     },
     "execution_count": 9,
     "metadata": {},
     "output_type": "execute_result"
    }
   ],
   "source": [
    "df.dtypes"
   ]
  },
  {
   "cell_type": "code",
   "execution_count": null,
   "metadata": {},
   "outputs": [],
   "source": []
  }
 ],
 "metadata": {
  "kernelspec": {
   "display_name": "Python 3",
   "language": "python",
   "name": "python3"
  },
  "language_info": {
   "codemirror_mode": {
    "name": "ipython",
    "version": 3
   },
   "file_extension": ".py",
   "mimetype": "text/x-python",
   "name": "python",
   "nbconvert_exporter": "python",
   "pygments_lexer": "ipython3",
   "version": "3.6.5"
  }
 },
 "nbformat": 4,
 "nbformat_minor": 2
}
