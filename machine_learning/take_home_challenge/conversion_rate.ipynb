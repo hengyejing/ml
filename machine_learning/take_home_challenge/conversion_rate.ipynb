{
 "cells": [
  {
   "cell_type": "code",
   "execution_count": 19,
   "metadata": {},
   "outputs": [
    {
     "data": {
      "text/html": [
       "<style>.container { width:100% !important; }</style"
      ],
      "text/plain": [
       "<IPython.core.display.HTML object>"
      ]
     },
     "metadata": {},
     "output_type": "display_data"
    }
   ],
   "source": [
    "import pyspark.sql.functions as F\n",
    "from pyspark.sql import Window\n",
    "from pyspark.sql.types import IntegerType\n",
    "\n",
    "import numpy as np\n",
    "import matplotlib.pyplot as plt\n",
    "import pandas as pd\n",
    "\n",
    "from pyspark.ml import Pipeline\n",
    "from pyspark.ml.feature import IndexToString, StringIndexer, VectorIndexer\n",
    "from pyspark.ml.classification import RandomForestClassifier\n",
    "\n",
    "\n",
    "from IPython.core.display import display, HTML\n",
    "display(HTML(\"<style>.container { width:100% !important; }</style\"))"
   ]
  },
  {
   "cell_type": "code",
   "execution_count": 2,
   "metadata": {},
   "outputs": [],
   "source": [
    "df = spark.read.csv(\"F:/python/data/conversion_data.csv\", header=True)"
   ]
  },
  {
   "cell_type": "code",
   "execution_count": 3,
   "metadata": {},
   "outputs": [
    {
     "name": "stdout",
     "output_type": "stream",
     "text": [
      "+-------+---+--------+------+-------------------+---------+\n",
      "|country|age|new_user|source|total_pages_visited|converted|\n",
      "+-------+---+--------+------+-------------------+---------+\n",
      "|     UK| 25|       1|   Ads|                  1|        0|\n",
      "|     US| 23|       1|   Seo|                  5|        0|\n",
      "|     US| 28|       1|   Seo|                  4|        0|\n",
      "|  China| 39|       1|   Seo|                  5|        0|\n",
      "|     US| 30|       1|   Seo|                  6|        0|\n",
      "+-------+---+--------+------+-------------------+---------+\n",
      "only showing top 5 rows\n",
      "\n"
     ]
    }
   ],
   "source": [
    "df.show(5)"
   ]
  },
  {
   "cell_type": "code",
   "execution_count": 4,
   "metadata": {},
   "outputs": [
    {
     "data": {
      "text/plain": [
       "[('country', 'string'),\n",
       " ('age', 'string'),\n",
       " ('new_user', 'string'),\n",
       " ('source', 'string'),\n",
       " ('total_pages_visited', 'string'),\n",
       " ('converted', 'string')]"
      ]
     },
     "execution_count": 4,
     "metadata": {},
     "output_type": "execute_result"
    }
   ],
   "source": [
    "df.dtypes"
   ]
  },
  {
   "cell_type": "code",
   "execution_count": 5,
   "metadata": {},
   "outputs": [],
   "source": [
    "df = df.withColumn('age', F.col('age').cast(IntegerType()))\\\n",
    "       .withColumn('new_user', F.col('new_user').cast(IntegerType()))\\\n",
    "       .withColumn('total_pages_visited', F.col('total_pages_visited').cast(IntegerType()))\\\n",
    "       .withColumn('converted', F.col('converted').cast(IntegerType()))"
   ]
  },
  {
   "cell_type": "code",
   "execution_count": 6,
   "metadata": {},
   "outputs": [
    {
     "data": {
      "text/plain": [
       "[('country', 'string'),\n",
       " ('age', 'int'),\n",
       " ('new_user', 'int'),\n",
       " ('source', 'string'),\n",
       " ('total_pages_visited', 'int'),\n",
       " ('converted', 'int')]"
      ]
     },
     "execution_count": 6,
     "metadata": {},
     "output_type": "execute_result"
    }
   ],
   "source": [
    "df.dtypes"
   ]
  },
  {
   "cell_type": "code",
   "execution_count": 7,
   "metadata": {},
   "outputs": [
    {
     "name": "stdout",
     "output_type": "stream",
     "text": [
      "+-------+-------+------------------+-------------------+------+-------------------+-------------------+\n",
      "|summary|country|               age|           new_user|source|total_pages_visited|          converted|\n",
      "+-------+-------+------------------+-------------------+------+-------------------+-------------------+\n",
      "|  count| 316200|            316200|             316200|316200|             316200|             316200|\n",
      "|   mean|   null|30.569857685009488| 0.6854648956356736|  null|  4.872966476913346|0.03225806451612903|\n",
      "| stddev|   null|  8.27180180180773|0.46433119036384735|  null|  3.341103757948237| 0.1766849753576351|\n",
      "|    min|  China|                17|                  0|   Ads|                  1|                  0|\n",
      "|    max|     US|               123|                  1|   Seo|                 29|                  1|\n",
      "+-------+-------+------------------+-------------------+------+-------------------+-------------------+\n",
      "\n"
     ]
    }
   ],
   "source": [
    "df.describe(['country', 'age', 'new_user', 'source', 'total_pages_visited', 'converted']).show()"
   ]
  },
  {
   "cell_type": "code",
   "execution_count": 8,
   "metadata": {},
   "outputs": [
    {
     "name": "stdout",
     "output_type": "stream",
     "text": [
      "+-------+---+--------+------+-------------------+---------+\n",
      "|country|age|new_user|source|total_pages_visited|converted|\n",
      "+-------+---+--------+------+-------------------+---------+\n",
      "|Germany|123|       0|   Seo|                 15|        1|\n",
      "|     UK|111|       0|   Ads|                 10|        1|\n",
      "+-------+---+--------+------+-------------------+---------+\n",
      "\n"
     ]
    }
   ],
   "source": [
    "df.filter(F.col('age')>=80).show()"
   ]
  },
  {
   "cell_type": "code",
   "execution_count": 9,
   "metadata": {},
   "outputs": [],
   "source": [
    "## Exclude outlier\n",
    "df = df.filter(F.col('age')<80)"
   ]
  },
  {
   "cell_type": "code",
   "execution_count": 10,
   "metadata": {},
   "outputs": [
    {
     "name": "stdout",
     "output_type": "stream",
     "text": [
      "+-------+------------------+\n",
      "|summary|               age|\n",
      "+-------+------------------+\n",
      "|  count|            316198|\n",
      "|   mean|30.569311001334608|\n",
      "| stddev|  8.26895759642144|\n",
      "|    min|                17|\n",
      "|    max|                79|\n",
      "+-------+------------------+\n",
      "\n"
     ]
    }
   ],
   "source": [
    "df.describe('age').show()"
   ]
  },
  {
   "cell_type": "code",
   "execution_count": 17,
   "metadata": {},
   "outputs": [],
   "source": [
    "country_agg = df.groupBy('country').agg(F.avg('converted').alias('conversion_rate'))"
   ]
  },
  {
   "cell_type": "code",
   "execution_count": 18,
   "metadata": {},
   "outputs": [
    {
     "name": "stdout",
     "output_type": "stream",
     "text": [
      "+-------+--------------------+\n",
      "|country|     conversion_rate|\n",
      "+-------+--------------------+\n",
      "|Germany|0.062428188433550365|\n",
      "|  China|0.001331557922769...|\n",
      "|     US|0.037800687285223365|\n",
      "|     UK|0.052612025015996204|\n",
      "+-------+--------------------+\n",
      "\n"
     ]
    }
   ],
   "source": [
    "country_agg.show()"
   ]
  },
  {
   "cell_type": "code",
   "execution_count": 20,
   "metadata": {},
   "outputs": [],
   "source": [
    "country_agg_pd = country_agg.toPandas()"
   ]
  },
  {
   "cell_type": "code",
   "execution_count": 21,
   "metadata": {},
   "outputs": [],
   "source": [
    "x = country_agg_pd['country']"
   ]
  },
  {
   "cell_type": "code",
   "execution_count": 22,
   "metadata": {},
   "outputs": [],
   "source": [
    "y = country_agg_pd['conversion_rate']"
   ]
  },
  {
   "cell_type": "code",
   "execution_count": 33,
   "metadata": {},
   "outputs": [
    {
     "data": {
      "image/png": "[encoded data removed]",
      "text/plain": [
       "<Figure size 432x288 with 1 Axes>"
      ]
     },
     "metadata": {},
     "output_type": "display_data"
    }
   ],
   "source": [
    "plt.scatter(x, y)\n",
    "plt.xlabel('country')\n",
    "plt.ylabel('conversion rate')\n",
    "plt.show()"
   ]
  },
  {
   "cell_type": "code",
   "execution_count": 46,
   "metadata": {},
   "outputs": [],
   "source": [
    "(trainingData, testData) = df.randomSplit([0.7, 0.3])"
   ]
  },
  {
   "cell_type": "code",
   "execution_count": 41,
   "metadata": {},
   "outputs": [
    {
     "data": {
      "text/plain": [
       "StringIndexer_4ce3a7d850c0669f1fc8"
      ]
     },
     "execution_count": 41,
     "metadata": {},
     "output_type": "execute_result"
    }
   ],
   "source": [
    "labelIndexer"
   ]
  },
  {
   "cell_type": "code",
   "execution_count": null,
   "metadata": {},
   "outputs": [],
   "source": []
  }
 ],
 "metadata": {
  "kernelspec": {
   "display_name": "Python 3",
   "language": "python",
   "name": "python3"
  },
  "language_info": {
   "codemirror_mode": {
    "name": "ipython",
    "version": 3
   },
   "file_extension": ".py",
   "mimetype": "text/x-python",
   "name": "python",
   "nbconvert_exporter": "python",
   "pygments_lexer": "ipython3",
   "version": "3.6.5"
  }
 },
 "nbformat": 4,
 "nbformat_minor": 2
}
